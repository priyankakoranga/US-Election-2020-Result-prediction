{
 "cells": [
  {
   "cell_type": "markdown",
   "metadata": {},
   "source": [
    "# CONVERTING JSON FILE TO CSV."
   ]
  },
  {
   "cell_type": "code",
   "execution_count": 6,
   "metadata": {},
   "outputs": [],
   "source": [
    "#starting by importing the necessary libraries\n",
    "import json\n",
    "import csv\n",
    "import io"
   ]
  },
  {
   "cell_type": "code",
   "execution_count": 9,
   "metadata": {},
   "outputs": [],
   "source": [
    "#loading the json file\n",
    "json_file = \"uselections.json\"\n",
    "csv_file = \"uselectioncsv.csv\""
   ]
  },
  {
   "cell_type": "code",
   "execution_count": 11,
   "metadata": {},
   "outputs": [],
   "source": [
    "#conversion from json to csv and extracting important features\n",
    "with io.open(json_file, 'r',encoding='utf-8') as infile, io.open(csv_file, 'w',encoding='utf-8') as outfile:\n",
    "    var_list = [\"created_at\", \"full_text\",\"hashtags\",\"user_mentions\"]\n",
    "    writer = csv.DictWriter(outfile, fieldnames = var_list, lineterminator = '\\n')\n",
    "    writer.writeheader()\n",
    "    \n",
    "    for line in infile:\n",
    "        if line!='\\n':\n",
    "            tweet_dict={}\n",
    "            json_dict=json.loads(line)\n",
    "\n",
    "            tweet_dict[\"created_at\"]=json_dict[\"created_at\"]\n",
    "            texts=json_dict['text']\n",
    "\n",
    "            texts=texts.replace(',',' ')\n",
    "            texts=texts.replace(\"\\n\",' ')\n",
    "            tweet_dict['full_text']=texts\n",
    "            hashtags=json_dict['entities']['hashtags']\n",
    "            h_tag=[]\n",
    "            for tag in hashtags:\n",
    "                h_tag.append(tag['text'])\n",
    "            tweet_dict['hashtags'] = ','.join(h_tag)\n",
    "            usermentions=json_dict[\"entities\"][\"user_mentions\"]\n",
    "            u_mentions=[]\n",
    "            for user in usermentions:\n",
    "                u_mentions.append(user[\"screen_name\"])\n",
    "            tweet_dict['user_mentions']=','.join(u_mentions)\n",
    "            writer.writerow(tweet_dict)"
   ]
  },
  {
   "cell_type": "code",
   "execution_count": null,
   "metadata": {},
   "outputs": [],
   "source": []
  }
 ],
 "metadata": {
  "kernelspec": {
   "display_name": "Python 3",
   "language": "python",
   "name": "python3"
  },
  "language_info": {
   "codemirror_mode": {
    "name": "ipython",
    "version": 3
   },
   "file_extension": ".py",
   "mimetype": "text/x-python",
   "name": "python",
   "nbconvert_exporter": "python",
   "pygments_lexer": "ipython3",
   "version": "3.7.4"
  }
 },
 "nbformat": 4,
 "nbformat_minor": 2
}
