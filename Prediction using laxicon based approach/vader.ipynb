{
 "cells": [
  {
   "cell_type": "markdown",
   "metadata": {},
   "source": []
  },
  {
   "cell_type": "code",
   "execution_count": 4,
   "metadata": {},
   "outputs": [
    {
     "name": "stderr",
     "output_type": "stream",
     "text": [
      "[nltk_data] Downloading package vader_lexicon to\n",
      "[nltk_data]     C:\\Users\\PRIYANKA\\AppData\\Roaming\\nltk_data...\n",
      "[nltk_data]   Package vader_lexicon is already up-to-date!\n"
     ]
    }
   ],
   "source": [
    "import nltk\n",
    "import csv\n",
    "import pandas as pd\n",
    "nltk.download('vader_lexicon')\n",
    "from nltk.sentiment.vader import SentimentIntensityAnalyzer\n",
    "analyser = SentimentIntensityAnalyzer()"
   ]
  },
  {
   "cell_type": "code",
   "execution_count": 7,
   "metadata": {},
   "outputs": [],
   "source": [
    "#vader on total tweets\n",
    "import csv\n",
    "with open('USTweetsCsv.csv','r',encoding='utf-8') as infile:\n",
    "    with open('USTweetsScore.csv','w',encoding='utf-8')as outfile:\n",
    "        var_list = [\"Tweets\",'Score']\n",
    "        writer = csv.DictWriter(outfile, fieldnames = var_list, lineterminator = '\\n')\n",
    "        writer.writeheader()\n",
    "        file=csv.reader(infile)\n",
    "        pos=0\n",
    "        neg=0\n",
    "        scores=0\n",
    "        for line in infile:\n",
    "            tw={}\n",
    "            score=analyser.polarity_scores(line)\n",
    "            if(score['compound']>=0.08):\n",
    "                scores=1\n",
    "                pos=pos+1\n",
    "            if(score['compound']<=-0.08):\n",
    "                scores=-1\n",
    "                neg=neg+1\n",
    "            tw['Tweets']=line\n",
    "            tw['Score']=scores\n",
    "            writer.writerow(tw)"
   ]
  },
  {
   "cell_type": "code",
   "execution_count": 12,
   "metadata": {},
   "outputs": [],
   "source": [
    "def sentiments(outfile,negtwt,postwt):\n",
    "    var_list = [\"Tweets\",'hash', \"score\"]\n",
    "    writer = csv.DictWriter(outfile, fieldnames = var_list, lineterminator = '\\n')\n",
    "    writer.writeheader()\n",
    "    file=csv.reader(infile)\n",
    "    n=0\n",
    "    p=0\n",
    "    for row in file:\n",
    "        line=row[1]\n",
    "        tw={}\n",
    "                \n",
    "        hashtags=row[2]\n",
    "        for hasht in hashtags.split(','):\n",
    "            if hasht in negtwt:\n",
    "                scores=-1\n",
    "                break\n",
    "            elif hasht in postwt:\n",
    "                scores=1\n",
    "                break\n",
    "            else:\n",
    "                scores=0\n",
    "        if scores==0:\n",
    "            score=analyser.polarity_scores(line)\n",
    "            if(score['compound']>=0.08):\n",
    "                scores=1\n",
    "            if(score['compound']<=-0.08):\n",
    "                scores=-1\n",
    "        if scores==1:\n",
    "            p=p+1\n",
    "        elif scores == -1:\n",
    "            n=n+1\n",
    "        tw[\"Tweets\"]=row[1]\n",
    "        tw['hash']=row[2]\n",
    "        tw['score']=scores\n",
    "        writer.writerow(tw)\n",
    "    print(p)\n",
    "    print(n)\n",
    "    pvt=p/(p+n)\n",
    "    return pvt\n",
    "    "
   ]
  },
  {
   "cell_type": "code",
   "execution_count": 24,
   "metadata": {},
   "outputs": [
    {
     "name": "stdout",
     "output_type": "stream",
     "text": [
      "1994\n",
      "6895\n",
      "0.22432219597255035\n"
     ]
    }
   ],
   "source": [
    "with open('trumpTweets.csv','r',encoding='utf-8')as infile:\n",
    "    with open('trumpTweetsScore1.csv','w',encoding='utf-8')as outfile:\n",
    "        negtwt=['protest2020','protests2020','donaldout','dictatortrump','trumpout2020','trumpdictatorship','trumpout','bunkerboy','notmypresident','trumpresignnow','americaortrump','georgefloyd','justiceforgeorgefloyd']\n",
    "        postwt=['trump2020','blackvoicesfortrump','trumpsupporters','donaldtrump2020','womenfortrump']\n",
    "        pvtt=sentiments(outfile,negtwt,postwt)\n",
    "        print(pvtt)"
   ]
  },
  {
   "cell_type": "code",
   "execution_count": 25,
   "metadata": {},
   "outputs": [
    {
     "name": "stdout",
     "output_type": "stream",
     "text": [
      "3375\n",
      "1593\n",
      "0.6793478260869565\n"
     ]
    }
   ],
   "source": [
    "with open('joeTweets.csv','r',encoding='utf-8')as infile:\n",
    "    with open('joeTweetsScore1.csv','w',encoding='utf-8')as outfile:\n",
    "        negtwt=['youaintblack','neverbiden','blacklivesmatter','joebidenhasdementia','bidendropout','joebidenisaracist','joebidenisracist','joebidenisarapist','bideniscorrupt','hunterbiden','joebidenforjail']\n",
    "        postwt=['presidentbiden','bidenforpresident2020','gojoe','votejoebidentosaveamerica','biden2020','joebiden2020','nevertrumpneverbiden','presidentbiden']\n",
    "        pvtj=sentiments(outfile,negtwt,postwt)\n",
    "        print(pvtj)"
   ]
  },
  {
   "cell_type": "code",
   "execution_count": 23,
   "metadata": {},
   "outputs": [
    {
     "name": "stdout",
     "output_type": "stream",
     "text": [
      "THE PREDICTED WINNER IS JOE BIDEN\n"
     ]
    }
   ],
   "source": [
    "if pvtt>pvtj:\n",
    "    print(\"THE PREDICTED WINNER IS DONALD TRUMP\")\n",
    "else:\n",
    "    print(\"THE PREDICTED WINNER IS JOE BIDEN\")"
   ]
  },
  {
   "cell_type": "code",
   "execution_count": null,
   "metadata": {},
   "outputs": [],
   "source": []
  },
  {
   "cell_type": "code",
   "execution_count": null,
   "metadata": {},
   "outputs": [],
   "source": []
  }
 ],
 "metadata": {
  "kernelspec": {
   "display_name": "Python 3",
   "language": "python",
   "name": "python3"
  },
  "language_info": {
   "codemirror_mode": {
    "name": "ipython",
    "version": 3
   },
   "file_extension": ".py",
   "mimetype": "text/x-python",
   "name": "python",
   "nbconvert_exporter": "python",
   "pygments_lexer": "ipython3",
   "version": "3.7.4"
  }
 },
 "nbformat": 4,
 "nbformat_minor": 2
}
