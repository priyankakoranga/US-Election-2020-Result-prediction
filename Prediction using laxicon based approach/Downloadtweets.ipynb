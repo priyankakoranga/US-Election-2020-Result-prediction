{
 "cells": [
  {
   "cell_type": "markdown",
   "metadata": {},
   "source": [
    "# DATA COLLECTION :\n"
   ]
  },
  {
   "cell_type": "code",
   "execution_count": 1,
   "metadata": {},
   "outputs": [],
   "source": [
    "#Import the necessary methods from tweepy library\n",
    "from tweepy.streaming import StreamListener\n",
    "from tweepy import OAuthHandler\n",
    "from tweepy import Stream\n",
    "import re\n",
    "import io\n",
    "import json"
   ]
  },
  {
   "cell_type": "code",
   "execution_count": 2,
   "metadata": {},
   "outputs": [
    {
     "name": "stdout",
     "output_type": "stream",
     "text": [
      "500\n",
      "500\n",
      "{\"created_at\":\"Sun Jun 14 16:27:03 +0000 2020\",\"id\":1272203909503713281,\"id_str\":\"1272203909503713281\",\"text\":\"RT @MrMichaelBurkes: Happy birthday, President Trump! \\n\\nThanks for all that you do in the face of adversity. Your supporters far outnumber\\u2026\",\"source\":\"\\u003ca href=\\\"http:\\/\\/twitter.com\\/download\\/iphone\\\" rel=\\\"nofollow\\\"\\u003eTwitter for iPhone\\u003c\\/a\\u003e\",\"truncated\":false,\"in_reply_to_status_id\":null,\"in_reply_to_status_id_str\":null,\"in_reply_to_user_id\":null,\"in_reply_to_user_id_str\":null,\"in_reply_to_screen_name\":null,\"user\":{\"id\":880527055879667712,\"id_str\":\"880527055879667712\",\"name\":\"American Trumpette\",\"screen_name\":\"AmericanTrue7\",\"location\":\"United States\",\"url\":null,\"description\":\"Sinner saved by #Jesus. God, husband, family, country, constitution. Passionate RN #RescueDontBuy #TrumpTrain #MAGA #TruthSeeker #PeacefulWarrior. \\ud83c\\uddfa\\ud83c\\uddf8\\u2764\\ufe0f\\ud83d\\udcaa\\ud83c\\udffc\",\"translator_type\":\"none\",\"protected\":false,\"verified\":false,\"followers_count\":6437,\"friends_count\":6577,\"listed_count\":10,\"favourites_count\":106718,\"statuses_count\":64283,\"created_at\":\"Thu Jun 29 20:43:04 +0000 2017\",\"utc_offset\":null,\"time_zone\":null,\"geo_enabled\":false,\"lang\":null,\"contributors_enabled\":false,\"is_translator\":false,\"profile_background_color\":\"F5F8FA\",\"profile_background_image_url\":\"\",\"profile_background_image_url_https\":\"\",\"profile_background_tile\":false,\"profile_link_color\":\"1DA1F2\",\"profile_sidebar_border_color\":\"C0DEED\",\"profile_sidebar_fill_color\":\"DDEEF6\",\"profile_text_color\":\"333333\",\"profile_use_background_image\":true,\"profile_image_url\":\"http:\\/\\/pbs.twimg.com\\/profile_images\\/979151063247872000\\/_tVdRuI4_normal.jpg\",\"profile_image_url_https\":\"https:\\/\\/pbs.twimg.com\\/profile_images\\/979151063247872000\\/_tVdRuI4_normal.jpg\",\"profile_banner_url\":\"https:\\/\\/pbs.twimg.com\\/profile_banners\\/880527055879667712\\/1498769842\",\"default_profile\":true,\"default_profile_image\":false,\"following\":null,\"follow_request_sent\":null,\"notifications\":null},\"geo\":null,\"coordinates\":null,\"place\":null,\"contributors\":null,\"retweeted_status\":{\"created_at\":\"Sun Jun 14 16:22:00 +0000 2020\",\"id\":1272202639346774016,\"id_str\":\"1272202639346774016\",\"text\":\"Happy birthday, President Trump! \\n\\nThanks for all that you do in the face of adversity. Your supporters far outnumb\\u2026 https:\\/\\/t.co\\/4S1cK6N7Q6\",\"source\":\"\\u003ca href=\\\"http:\\/\\/twitter.com\\/download\\/android\\\" rel=\\\"nofollow\\\"\\u003eTwitter for Android\\u003c\\/a\\u003e\",\"truncated\":true,\"in_reply_to_status_id\":null,\"in_reply_to_status_id_str\":null,\"in_reply_to_user_id\":null,\"in_reply_to_user_id_str\":null,\"in_reply_to_screen_name\":null,\"user\":{\"id\":199841160,\"id_str\":\"199841160\",\"name\":\"Trump's Black Grandson\",\"screen_name\":\"MrMichaelBurkes\",\"location\":\"In a Hollywood Bungalow\",\"url\":\"http:\\/\\/Cash.App\\/$MrMichaelBurkes\",\"description\":\"Proud supporter of PRESIDENT Trump. Was born rough and rugged, addressin' the mass public. Venmo and PayPal: MrMichaelBurkes\",\"translator_type\":\"none\",\"protected\":false,\"verified\":false,\"followers_count\":184419,\"friends_count\":56901,\"listed_count\":218,\"favourites_count\":47809,\"statuses_count\":38802,\"created_at\":\"Thu Oct 07 21:14:47 +0000 2010\",\"utc_offset\":null,\"time_zone\":null,\"geo_enabled\":false,\"lang\":null,\"contributors_enabled\":false,\"is_translator\":false,\"profile_background_color\":\"000000\",\"profile_background_image_url\":\"http:\\/\\/abs.twimg.com\\/images\\/themes\\/theme1\\/bg.png\",\"profile_background_image_url_https\":\"https:\\/\\/abs.twimg.com\\/images\\/themes\\/theme1\\/bg.png\",\"profile_background_tile\":true,\"profile_link_color\":\"000000\",\"profile_sidebar_border_color\":\"000000\",\"profile_sidebar_fill_color\":\"DDEEF6\",\"profile_text_color\":\"333333\",\"profile_use_background_image\":true,\"profile_image_url\":\"http:\\/\\/pbs.twimg.com\\/profile_images\\/1265446187173371904\\/kx7WAD9g_normal.jpg\",\"profile_image_url_https\":\"https:\\/\\/pbs.twimg.com\\/profile_images\\/1265446187173371904\\/kx7WAD9g_normal.jpg\",\"profile_banner_url\":\"https:\\/\\/pbs.twimg.com\\/profile_banners\\/199841160\\/1584942951\",\"default_profile\":false,\"default_profile_image\":false,\"following\":null,\"follow_request_sent\":null,\"notifications\":null},\"geo\":null,\"coordinates\":null,\"place\":null,\"contributors\":null,\"is_quote_status\":false,\"extended_tweet\":{\"full_text\":\"Happy birthday, President Trump! \\n\\nThanks for all that you do in the face of adversity. Your supporters far outnumber your critics. \\n\\nHe'll have my vote this November, you? #Trump2020\",\"display_text_range\":[0,183],\"entities\":{\"hashtags\":[{\"text\":\"Trump2020\",\"indices\":[173,183]}],\"urls\":[],\"user_mentions\":[],\"symbols\":[]}},\"quote_count\":2,\"reply_count\":6,\"retweet_count\":69,\"favorite_count\":248,\"entities\":{\"hashtags\":[],\"urls\":[{\"url\":\"https:\\/\\/t.co\\/4S1cK6N7Q6\",\"expanded_url\":\"https:\\/\\/twitter.com\\/i\\/web\\/status\\/1272202639346774016\",\"display_url\":\"twitter.com\\/i\\/web\\/status\\/1\\u2026\",\"indices\":[117,140]}],\"user_mentions\":[],\"symbols\":[]},\"favorited\":false,\"retweeted\":false,\"filter_level\":\"low\",\"lang\":\"en\"},\"is_quote_status\":false,\"quote_count\":0,\"reply_count\":0,\"retweet_count\":0,\"favorite_count\":0,\"entities\":{\"hashtags\":[],\"urls\":[],\"user_mentions\":[{\"screen_name\":\"MrMichaelBurkes\",\"name\":\"Trump's Black Grandson\",\"id\":199841160,\"id_str\":\"199841160\",\"indices\":[3,19]}],\"symbols\":[]},\"favorited\":false,\"retweeted\":false,\"filter_level\":\"low\",\"lang\":\"en\",\"timestamp_ms\":\"1592152023088\"}\n",
      "\n"
     ]
    }
   ],
   "source": [
    "#Import the necessary methods from tweepy library\n",
    "# Enter Twitter API Keys\n",
    "\n",
    "access_token=\"1179728842539311105-JqPxt0Xlppc8M5B7aTJ2WH6LTq4uHu\"\n",
    "access_token_secret = \"iai342VJiDC98RWJxDfqU0o6s720571nVMAX1lASMa4fK\"\n",
    "consumer_key = \"iFKAaw2PlaI4tqJGgOV6iKCNL\"\n",
    "consumer_secret = \"mMVnly3uU7x9KBpTRXHJjfs2FUXMAlULNAItxNV8kkJnVyxWfc\"\n",
    "\n",
    "\n",
    "# Create tracklist with the words that will be searched for\n",
    "#tracklist = ['#USelection2020','#trump','#TrumpDictatorship','#TrumpOut2020','#NeverBiden','#Biden2020Victory','#BlackVotesMatter','#JoeBedinIsRacist','#YouAintBlack','#MAGA','#BlackVoicesForTrump','#WomenForTrump']\n",
    "\n",
    "tracklist=['#JoeBidenIsAracist','#JoeBidenIsARapist','#JoeBidenIsRacist','#hunterBiden','#USelection2020','#Donaldtrump','#protest2020','#bunkerboy','#trumpdictatorship','#trump2020','#trumpresignnow']\n",
    "# Initialize Global variable\n",
    "tweet_count = 10\n",
    "# Input number of tweets to be downloaded\n",
    "n_tweets = 1\n",
    "\n",
    "with io.open('tweetsdownload.json','w',encoding='utf-8')as outfile:\n",
    "    # Create the class that will handle the tweet stream\n",
    "    class StdOutListener(StreamListener):      \n",
    "        def on_data(self, data):\n",
    "            global tweet_count\n",
    "            global n_tweets\n",
    "            global stream\n",
    "            if tweet_count < n_tweets:\n",
    "                print(data)\n",
    "                json.dump(data,outfile)\n",
    "                tweet_count += 1\n",
    "                return True\n",
    "            else:\n",
    "                stream.disconnect()\n",
    "        def on_error(self, status):\n",
    "            print(status)\n",
    "            \n",
    "    # Handles Twitter authetification and the connection to Twitter Streaming API\n",
    "    \n",
    "    l = StdOutListener()\n",
    "    auth = OAuthHandler(consumer_key, consumer_secret)\n",
    "    auth.set_access_token(access_token, access_token_secret)\n",
    "    stream = Stream(auth, l)\n",
    "    stream.filter(track=tracklist)"
   ]
  },
  {
   "cell_type": "code",
   "execution_count": null,
   "metadata": {},
   "outputs": [],
   "source": []
  }
 ],
 "metadata": {
  "kernelspec": {
   "display_name": "Python 3",
   "language": "python",
   "name": "python3"
  },
  "language_info": {
   "codemirror_mode": {
    "name": "ipython",
    "version": 3
   },
   "file_extension": ".py",
   "mimetype": "text/x-python",
   "name": "python",
   "nbconvert_exporter": "python",
   "pygments_lexer": "ipython3",
   "version": "3.7.4"
  }
 },
 "nbformat": 4,
 "nbformat_minor": 2
}
