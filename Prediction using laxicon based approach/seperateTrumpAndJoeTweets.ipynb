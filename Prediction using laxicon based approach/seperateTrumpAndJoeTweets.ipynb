{
 "cells": [
  {
   "cell_type": "markdown",
   "metadata": {},
   "source": [
    "# SEPERATING TWEETS RELATED TO TRUMP AND JOE BIDEN"
   ]
  },
  {
   "cell_type": "code",
   "execution_count": 2,
   "metadata": {},
   "outputs": [],
   "source": [
    "import csv"
   ]
  },
  {
   "cell_type": "code",
   "execution_count": 3,
   "metadata": {},
   "outputs": [],
   "source": [
    "def seperate_files(outfile,infile,lis):\n",
    "    var_list = [\"created_at\", \"full_text\", \"hashtags\",\"user_mentions\"]\n",
    "    writer = csv.DictWriter(outfile, fieldnames = var_list, lineterminator = '\\n')\n",
    "    writer.writeheader()\n",
    "    x=csv.reader(infile)\n",
    "    for row in x:\n",
    "        tw={}\n",
    "        hasht=row[2]\n",
    "        for i in hasht.split(','):\n",
    "            if i in lis:\n",
    "                tw[\"created_at\"]=row[0]\n",
    "                tw[\"full_text\"]=row[1]\n",
    "                tw[\"hashtags\"]=row[2]\n",
    "                tw[\"user_mentions\"]=row[3]\n",
    "                        #print(tw)\n",
    "                writer.writerow(tw)"
   ]
  },
  {
   "cell_type": "code",
   "execution_count": 4,
   "metadata": {},
   "outputs": [],
   "source": [
    "#writing/adding all the tweets related to trump in trumpTweets.csv file.\n",
    "with open('tweetsAfterPreprocessing.csv','r',encoding='utf-8') as infile:\n",
    "    with open('trumpTweets.csv','w',encoding='utf-8')as outfile:\n",
    "        l1=['trump','donaldtrump','blackvoicesfortrump','maga','trumpsupporters','hitler','donaldtrump2020','trumpout2020','justiceforgeorgefloyd','georgefloydwasmurdered','bluelivesmatter','alllivesmatter','donaldout','maga','votebluetosaveamerica','dictatortrump','protest2020','bunkerboy','blacklivesmatter','trumpdictatorship','trump2020','womenfortrump','trumpresignnow']\n",
    "        seperate_files(outfile,infile,l1)\n",
    "\n",
    "\n",
    "    \n",
    "    "
   ]
  },
  {
   "cell_type": "code",
   "execution_count": 5,
   "metadata": {},
   "outputs": [],
   "source": [
    "#writing/adding all the tweets related to joebiden in joeTweets.csv file.\n",
    "with open('tweetsAfterPreprocessing.csv','r',encoding='utf-8') as infile:\n",
    "    with open('joeTweets.csv','w',encoding='utf-8')as outfiles:\n",
    "        l2=['presidentbiden','votejoebidentosaveamerica','joebidenhasdementia','youaintblack','bideniscorrupt','joebidenisaracist','joebidenisarapist','joebidenisracist','hunterbiden','nevertrumpneverbiden','joebiden','nomoreexcuses','biden','maga','gojoe2020','baidenisracist','joebiden2020','votejoebiden2020','blacklivesmatter','joebidenisrapist','joebedinisracist','biden2020']\n",
    "        seperate_files(outfiles,infile,l2)"
   ]
  },
  {
   "cell_type": "code",
   "execution_count": null,
   "metadata": {},
   "outputs": [],
   "source": []
  },
  {
   "cell_type": "code",
   "execution_count": null,
   "metadata": {},
   "outputs": [],
   "source": []
  },
  {
   "cell_type": "code",
   "execution_count": null,
   "metadata": {},
   "outputs": [],
   "source": []
  }
 ],
 "metadata": {
  "kernelspec": {
   "display_name": "Python 3",
   "language": "python",
   "name": "python3"
  },
  "language_info": {
   "codemirror_mode": {
    "name": "ipython",
    "version": 3
   },
   "file_extension": ".py",
   "mimetype": "text/x-python",
   "name": "python",
   "nbconvert_exporter": "python",
   "pygments_lexer": "ipython3",
   "version": "3.7.4"
  }
 },
 "nbformat": 4,
 "nbformat_minor": 2
}
