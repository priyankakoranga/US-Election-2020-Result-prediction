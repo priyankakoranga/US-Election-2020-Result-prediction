{
 "cells": [
  {
   "cell_type": "code",
   "execution_count": 2,
   "metadata": {},
   "outputs": [],
   "source": [
    "import pandas as pd\n",
    "import numpy as np\n",
    "import re\n",
    "from re import sub\n",
    "import multiprocessing\n",
    "from unidecode import unidecode\n",
    "import nltk\n",
    "\n",
    "import csv\n",
    "import io\n",
    "import string\n",
    "\n",
    "from nltk.corpus import stopwords\n",
    "stop_words=set(stopwords.words('english'))\n",
    "\n",
    "global str\n",
    "\n",
    "from gensim.models.phrases import Phrases, Phraser\n",
    "from gensim.models import Word2Vec\n",
    "from gensim.test.utils import get_tmpfile\n",
    "from gensim.models import KeyedVectors\n",
    "\n",
    "from translate import Translator\n",
    "\n",
    "\n",
    "from time import time \n",
    "from collections import defaultdict\n",
    "\n",
    "import logging  # Setting up the loggings to monitor gensim\n",
    "logging.basicConfig(format=\"%(levelname)s - %(asctime)s: %(message)s\", datefmt= '%H:%M:%S', level=logging.INFO)"
   ]
  },
  {
   "cell_type": "code",
   "execution_count": 3,
   "metadata": {},
   "outputs": [],
   "source": [
    "file=pd.read_csv('USelectionw2v.csv')\n"
   ]
  },
  {
   "cell_type": "code",
   "execution_count": 4,
   "metadata": {},
   "outputs": [
    {
     "data": {
      "text/html": [
       "<div>\n",
       "<style scoped>\n",
       "    .dataframe tbody tr th:only-of-type {\n",
       "        vertical-align: middle;\n",
       "    }\n",
       "\n",
       "    .dataframe tbody tr th {\n",
       "        vertical-align: top;\n",
       "    }\n",
       "\n",
       "    .dataframe thead th {\n",
       "        text-align: right;\n",
       "    }\n",
       "</style>\n",
       "<table border=\"1\" class=\"dataframe\">\n",
       "  <thead>\n",
       "    <tr style=\"text-align: right;\">\n",
       "      <th></th>\n",
       "      <th>created_at</th>\n",
       "      <th>full_text</th>\n",
       "      <th>hashtags</th>\n",
       "      <th>user_mentions</th>\n",
       "    </tr>\n",
       "  </thead>\n",
       "  <tbody>\n",
       "    <tr>\n",
       "      <td>0</td>\n",
       "      <td>Sat Jun 13 20:41:42 +0000 2020</td>\n",
       "      <td>@traceybra @TheLondonHughes #AllLivesMatter</td>\n",
       "      <td>AllLivesMatter</td>\n",
       "      <td>traceybra,TheLondonHughes</td>\n",
       "    </tr>\n",
       "    <tr>\n",
       "      <td>1</td>\n",
       "      <td>Sat Jun 13 20:41:42 +0000 2020</td>\n",
       "      <td>RT @beardedfinance: You look like an EasyJet f...</td>\n",
       "      <td>NaN</td>\n",
       "      <td>beardedfinance</td>\n",
       "    </tr>\n",
       "    <tr>\n",
       "      <td>2</td>\n",
       "      <td>Sat Jun 13 20:41:42 +0000 2020</td>\n",
       "      <td>RT @larryelder: #alllivesmatter https://t.co/A...</td>\n",
       "      <td>alllivesmatter</td>\n",
       "      <td>larryelder</td>\n",
       "    </tr>\n",
       "    <tr>\n",
       "      <td>3</td>\n",
       "      <td>Sat Jun 13 20:41:42 +0000 2020</td>\n",
       "      <td>RT @EWindt: Lieve @NUnl  #AllLivesMatter #AllL...</td>\n",
       "      <td>AllLivesMatter,AllLivesMatter,AllLivesMatter,A...</td>\n",
       "      <td>EWindt,NUnl</td>\n",
       "    </tr>\n",
       "    <tr>\n",
       "      <td>4</td>\n",
       "      <td>Sat Jun 13 20:41:43 +0000 2020</td>\n",
       "      <td>@realDonaldTrump Congrats to the graduates. Bu...</td>\n",
       "      <td>NaN</td>\n",
       "      <td>realDonaldTrump</td>\n",
       "    </tr>\n",
       "  </tbody>\n",
       "</table>\n",
       "</div>"
      ],
      "text/plain": [
       "                       created_at  \\\n",
       "0  Sat Jun 13 20:41:42 +0000 2020   \n",
       "1  Sat Jun 13 20:41:42 +0000 2020   \n",
       "2  Sat Jun 13 20:41:42 +0000 2020   \n",
       "3  Sat Jun 13 20:41:42 +0000 2020   \n",
       "4  Sat Jun 13 20:41:43 +0000 2020   \n",
       "\n",
       "                                           full_text  \\\n",
       "0        @traceybra @TheLondonHughes #AllLivesMatter   \n",
       "1  RT @beardedfinance: You look like an EasyJet f...   \n",
       "2  RT @larryelder: #alllivesmatter https://t.co/A...   \n",
       "3  RT @EWindt: Lieve @NUnl  #AllLivesMatter #AllL...   \n",
       "4  @realDonaldTrump Congrats to the graduates. Bu...   \n",
       "\n",
       "                                            hashtags  \\\n",
       "0                                     AllLivesMatter   \n",
       "1                                                NaN   \n",
       "2                                     alllivesmatter   \n",
       "3  AllLivesMatter,AllLivesMatter,AllLivesMatter,A...   \n",
       "4                                                NaN   \n",
       "\n",
       "               user_mentions  \n",
       "0  traceybra,TheLondonHughes  \n",
       "1             beardedfinance  \n",
       "2                 larryelder  \n",
       "3                EWindt,NUnl  \n",
       "4            realDonaldTrump  "
      ]
     },
     "execution_count": 4,
     "metadata": {},
     "output_type": "execute_result"
    }
   ],
   "source": [
    "file.head()"
   ]
  },
  {
   "cell_type": "code",
   "execution_count": 5,
   "metadata": {},
   "outputs": [
    {
     "data": {
      "text/plain": [
       "102629"
      ]
     },
     "execution_count": 5,
     "metadata": {},
     "output_type": "execute_result"
    }
   ],
   "source": [
    "file.full_text.count()"
   ]
  },
  {
   "cell_type": "code",
   "execution_count": 6,
   "metadata": {},
   "outputs": [],
   "source": [
    "file_cleaned = file.drop(columns=['created_at','user_mentions']).reset_index(drop=True)\n",
    "file_cleaned['tweet']=file['full_text']"
   ]
  },
  {
   "cell_type": "code",
   "execution_count": 7,
   "metadata": {},
   "outputs": [],
   "source": [
    "#file_cleaned = file_cleaned.dropna().reset_index(drop= True)\n",
    "file_cleaned = file_cleaned.drop_duplicates().reset_index(drop= True)\n"
   ]
  },
  {
   "cell_type": "code",
   "execution_count": 8,
   "metadata": {},
   "outputs": [
    {
     "data": {
      "text/plain": [
       "37237"
      ]
     },
     "execution_count": 8,
     "metadata": {},
     "output_type": "execute_result"
    }
   ],
   "source": [
    "file_cleaned.full_text.count()\n"
   ]
  },
  {
   "cell_type": "code",
   "execution_count": 9,
   "metadata": {},
   "outputs": [],
   "source": [
    "file_cleaned['hashtags']=file_cleaned['hashtags'].str.lower()\n"
   ]
  },
  {
   "cell_type": "code",
   "execution_count": 10,
   "metadata": {},
   "outputs": [
    {
     "data": {
      "text/html": [
       "<div>\n",
       "<style scoped>\n",
       "    .dataframe tbody tr th:only-of-type {\n",
       "        vertical-align: middle;\n",
       "    }\n",
       "\n",
       "    .dataframe tbody tr th {\n",
       "        vertical-align: top;\n",
       "    }\n",
       "\n",
       "    .dataframe thead th {\n",
       "        text-align: right;\n",
       "    }\n",
       "</style>\n",
       "<table border=\"1\" class=\"dataframe\">\n",
       "  <thead>\n",
       "    <tr style=\"text-align: right;\">\n",
       "      <th></th>\n",
       "      <th>full_text</th>\n",
       "      <th>hashtags</th>\n",
       "      <th>tweet</th>\n",
       "    </tr>\n",
       "  </thead>\n",
       "  <tbody>\n",
       "    <tr>\n",
       "      <td>0</td>\n",
       "      <td>@traceybra @TheLondonHughes #AllLivesMatter</td>\n",
       "      <td>alllivesmatter</td>\n",
       "      <td>@traceybra @TheLondonHughes #AllLivesMatter</td>\n",
       "    </tr>\n",
       "    <tr>\n",
       "      <td>1</td>\n",
       "      <td>RT @beardedfinance: You look like an EasyJet f...</td>\n",
       "      <td>NaN</td>\n",
       "      <td>RT @beardedfinance: You look like an EasyJet f...</td>\n",
       "    </tr>\n",
       "    <tr>\n",
       "      <td>2</td>\n",
       "      <td>RT @larryelder: #alllivesmatter https://t.co/A...</td>\n",
       "      <td>alllivesmatter</td>\n",
       "      <td>RT @larryelder: #alllivesmatter https://t.co/A...</td>\n",
       "    </tr>\n",
       "    <tr>\n",
       "      <td>3</td>\n",
       "      <td>RT @EWindt: Lieve @NUnl  #AllLivesMatter #AllL...</td>\n",
       "      <td>alllivesmatter,alllivesmatter,alllivesmatter,a...</td>\n",
       "      <td>RT @EWindt: Lieve @NUnl  #AllLivesMatter #AllL...</td>\n",
       "    </tr>\n",
       "    <tr>\n",
       "      <td>4</td>\n",
       "      <td>@realDonaldTrump Congrats to the graduates. Bu...</td>\n",
       "      <td>NaN</td>\n",
       "      <td>@realDonaldTrump Congrats to the graduates. Bu...</td>\n",
       "    </tr>\n",
       "  </tbody>\n",
       "</table>\n",
       "</div>"
      ],
      "text/plain": [
       "                                           full_text  \\\n",
       "0        @traceybra @TheLondonHughes #AllLivesMatter   \n",
       "1  RT @beardedfinance: You look like an EasyJet f...   \n",
       "2  RT @larryelder: #alllivesmatter https://t.co/A...   \n",
       "3  RT @EWindt: Lieve @NUnl  #AllLivesMatter #AllL...   \n",
       "4  @realDonaldTrump Congrats to the graduates. Bu...   \n",
       "\n",
       "                                            hashtags  \\\n",
       "0                                     alllivesmatter   \n",
       "1                                                NaN   \n",
       "2                                     alllivesmatter   \n",
       "3  alllivesmatter,alllivesmatter,alllivesmatter,a...   \n",
       "4                                                NaN   \n",
       "\n",
       "                                               tweet  \n",
       "0        @traceybra @TheLondonHughes #AllLivesMatter  \n",
       "1  RT @beardedfinance: You look like an EasyJet f...  \n",
       "2  RT @larryelder: #alllivesmatter https://t.co/A...  \n",
       "3  RT @EWindt: Lieve @NUnl  #AllLivesMatter #AllL...  \n",
       "4  @realDonaldTrump Congrats to the graduates. Bu...  "
      ]
     },
     "execution_count": 10,
     "metadata": {},
     "output_type": "execute_result"
    }
   ],
   "source": [
    "file_cleaned.head()"
   ]
  },
  {
   "cell_type": "code",
   "execution_count": 11,
   "metadata": {},
   "outputs": [],
   "source": [
    "def text_to_word_list(text, process):\n",
    "    ''' Pre process and convert texts to a list of words \n",
    "    method inspired by method from eliorc github repo: https://github.com/eliorc/Medium/blob/master/MaLSTM.ipynb'''\n",
    "    text = process(text)\n",
    "    text = text.lower()\n",
    "    # Clean the text\n",
    "    text = sub(r'\\w+:\\/{2}[\\d\\w-]+(\\.[\\d\\w-]+)(?:(?:\\/[^\\s/]*))*',\" \",text)\n",
    "        \n",
    "\n",
    "    text= sub(r' (@[a-zA-Z]\\S+ )',\" \",text)\n",
    "    text = sub(r\"[^A-Za-z0-9^,!?.\\/'+]\", \" \", text)\n",
    "    text = sub(r\"\\+\", \" plus \", text)\n",
    "    text = sub(r\"^rt \", \"\", text)\n",
    "    text = sub(r\",\", \" \", text)\n",
    "    text = sub(r\"\\.\", \" \", text)\n",
    "    text = sub(r\"!\", \" \", text)\n",
    "    text = sub(r\"\\?\", \" \", text)\n",
    "    text = sub(r\" [1-9]* \",' ',text)\n",
    "    text = sub(r\"'\", \" \", text)\n",
    "    text = sub(r\":\", \" \", text)\n",
    "    text = sub(r\"\\s{2,}\", \" \", text)\n",
    "    \n",
    "    text = text.split()\n",
    "\n",
    "    return text"
   ]
  },
  {
   "cell_type": "code",
   "execution_count": 12,
   "metadata": {},
   "outputs": [],
   "source": [
    "file_cleaned.full_text = file_cleaned.full_text.apply(lambda x: text_to_word_list(x, unidecode))\n"
   ]
  },
  {
   "cell_type": "code",
   "execution_count": 15,
   "metadata": {},
   "outputs": [
    {
     "name": "stdout",
     "output_type": "stream",
     "text": [
      "<class 'pandas.core.frame.DataFrame'>\n",
      "RangeIndex: 37237 entries, 0 to 37236\n",
      "Data columns (total 3 columns):\n",
      "full_text    37237 non-null object\n",
      "hashtags     21340 non-null object\n",
      "tweet        37237 non-null object\n",
      "dtypes: object(3)\n",
      "memory usage: 872.9+ KB\n"
     ]
    }
   ],
   "source": [
    "file_cleaned.info()\n",
    "\n"
   ]
  },
  {
   "cell_type": "code",
   "execution_count": 13,
   "metadata": {},
   "outputs": [],
   "source": [
    "from nltk.stem import WordNetLemmatizer \n",
    "lemmatizer = WordNetLemmatizer()\n",
    "\n",
    "from nltk.stem.porter import PorterStemmer\n",
    "stemmer = PorterStemmer()"
   ]
  },
  {
   "cell_type": "code",
   "execution_count": 14,
   "metadata": {},
   "outputs": [],
   "source": [
    "file_cleaned['full_text']=file_cleaned['full_text'].apply(lambda x:[ lemmatizer.lemmatize(y) for y in x])"
   ]
  },
  {
   "cell_type": "code",
   "execution_count": 15,
   "metadata": {},
   "outputs": [],
   "source": [
    "#remove negative words from stopwords\n",
    "import re\n",
    "l1=[]\n",
    "l2=[]\n",
    "l3=['no','nor','couldn','hasn','hadn','haven','didn','but']\n",
    "for i in stop_words:\n",
    "    str=''\n",
    "    x=re.findall('(.*n.t$)',i)\n",
    "    if len(x)!=0:\n",
    "        a=str.join(x)\n",
    "        l2.append(a)\n",
    "\n",
    "for i in stop_words:\n",
    "    if not i in l2:\n",
    "        if i not in l3:\n",
    "            l1.append(i)\n",
    "#l1 is list of stopwords without negative words\n"
   ]
  },
  {
   "cell_type": "code",
   "execution_count": 16,
   "metadata": {},
   "outputs": [],
   "source": [
    "file_cleaned.full_text=file_cleaned['full_text'].apply(lambda x:[item for item in x if item not in l1])"
   ]
  },
  {
   "cell_type": "code",
   "execution_count": 17,
   "metadata": {},
   "outputs": [],
   "source": [
    "file_model = file_cleaned.copy()\n",
    "file_model = file_model[file_model.full_text.str.len()>1]\n"
   ]
  },
  {
   "cell_type": "code",
   "execution_count": 18,
   "metadata": {},
   "outputs": [
    {
     "name": "stderr",
     "output_type": "stream",
     "text": [
      "INFO - 18:44:57: collecting all words and their counts\n",
      "INFO - 18:44:57: PROGRESS: at sentence #0, processed 0 words and 0 word types\n",
      "INFO - 18:44:57: PROGRESS: at sentence #10000, processed 95706 words and 79141 word types\n",
      "INFO - 18:44:57: PROGRESS: at sentence #20000, processed 183067 words and 137004 word types\n",
      "INFO - 18:44:57: PROGRESS: at sentence #30000, processed 270677 words and 194752 word types\n",
      "INFO - 18:44:57: collected 229426 word types from a corpus of 320849 words (unigram + bigrams) and 35261 sentences\n",
      "INFO - 18:44:57: using 229426 counts as vocab in Phrases<0 vocab, min_count=5, threshold=10.0, max_vocab_size=40000000>\n",
      "INFO - 18:44:57: source_vocab length 229426\n",
      "INFO - 18:44:59: Phraser built with 2034 phrasegrams\n"
     ]
    },
    {
     "data": {
      "text/plain": [
       "['look_like', 'easyjet_flight', 'attendant']"
      ]
     },
     "execution_count": 18,
     "metadata": {},
     "output_type": "execute_result"
    }
   ],
   "source": [
    "sent = [row for row in file_model.full_text]\n",
    "phrases = Phrases(sent, min_count=5, progress_per=10000)\n",
    "bigram = Phraser(phrases)\n",
    "sentences = bigram[sent]\n",
    "sentences[1]\n"
   ]
  },
  {
   "cell_type": "code",
   "execution_count": 19,
   "metadata": {},
   "outputs": [
    {
     "name": "stderr",
     "output_type": "stream",
     "text": [
      "INFO - 18:45:00: collecting all words and their counts\n",
      "INFO - 18:45:00: PROGRESS: at sentence #0, processed 0 words, keeping 0 word types\n",
      "INFO - 18:45:00: PROGRESS: at sentence #30000, processed 249106 words, keeping 39829 word types\n",
      "INFO - 18:45:00: collected 45226 word types from a corpus of 295656 raw words and 35261 sentences\n",
      "INFO - 18:45:00: Loading a fresh vocabulary\n",
      "INFO - 18:45:00: effective_min_count=10 retains 4529 unique words (10% of original 45226, drops 40697)\n",
      "INFO - 18:45:00: effective_min_count=10 leaves 214708 word corpus (72% of original 295656, drops 80948)\n",
      "INFO - 18:45:01: deleting the raw counts dictionary of 45226 items\n",
      "INFO - 18:45:01: sample=5e-05 downsamples 1559 most-common words\n",
      "INFO - 18:45:01: downsampling leaves estimated 109377 word corpus (50.9% of prior 214708)\n",
      "INFO - 18:45:01: estimated required memory for 4529 words and 300 dimensions: 13134100 bytes\n",
      "INFO - 18:45:01: resetting layer weights\n"
     ]
    },
    {
     "name": "stdout",
     "output_type": "stream",
     "text": [
      "Time to build vocab: 0.01 mins\n"
     ]
    }
   ],
   "source": [
    "w2v_model = Word2Vec(min_count=10,\n",
    "                     window=5,\n",
    "                     size=300,\n",
    "                     sample=5e-5, \n",
    "                     alpha=0.04, \n",
    "                     min_alpha=0.0007, \n",
    "                     negative=3,\n",
    "                     workers=multiprocessing.cpu_count()-1)\n",
    "\n",
    "start = time()\n",
    "\n",
    "w2v_model.build_vocab(sentences, progress_per=30000)\n",
    "\n",
    "print('Time to build vocab: {} mins'.format(round((time() - start) / 60, 2)))"
   ]
  },
  {
   "cell_type": "code",
   "execution_count": 20,
   "metadata": {},
   "outputs": [
    {
     "name": "stderr",
     "output_type": "stream",
     "text": [
      "INFO - 18:45:03: training model with 7 workers on 4529 vocabulary and 300 features, using sg=0 hs=0 sample=5e-05 negative=3 window=5\n",
      "INFO - 18:45:04: worker thread finished; awaiting finish of 6 more threads\n",
      "INFO - 18:45:04: worker thread finished; awaiting finish of 5 more threads\n",
      "INFO - 18:45:04: worker thread finished; awaiting finish of 4 more threads\n",
      "INFO - 18:45:04: worker thread finished; awaiting finish of 3 more threads\n",
      "INFO - 18:45:04: worker thread finished; awaiting finish of 2 more threads\n",
      "INFO - 18:45:04: worker thread finished; awaiting finish of 1 more threads\n",
      "INFO - 18:45:04: worker thread finished; awaiting finish of 0 more threads\n",
      "INFO - 18:45:04: EPOCH - 1 : training on 295656 raw words (109358 effective words) took 0.7s, 146317 effective words/s\n",
      "INFO - 18:45:04: worker thread finished; awaiting finish of 6 more threads\n",
      "INFO - 18:45:04: worker thread finished; awaiting finish of 5 more threads\n",
      "INFO - 18:45:04: worker thread finished; awaiting finish of 4 more threads\n",
      "INFO - 18:45:04: worker thread finished; awaiting finish of 3 more threads\n",
      "INFO - 18:45:04: worker thread finished; awaiting finish of 2 more threads\n",
      "INFO - 18:45:04: worker thread finished; awaiting finish of 1 more threads\n",
      "INFO - 18:45:04: worker thread finished; awaiting finish of 0 more threads\n",
      "INFO - 18:45:04: EPOCH - 2 : training on 295656 raw words (108995 effective words) took 0.8s, 143836 effective words/s\n",
      "INFO - 18:45:05: worker thread finished; awaiting finish of 6 more threads\n",
      "INFO - 18:45:05: worker thread finished; awaiting finish of 5 more threads\n",
      "INFO - 18:45:05: worker thread finished; awaiting finish of 4 more threads\n",
      "INFO - 18:45:05: worker thread finished; awaiting finish of 3 more threads\n",
      "INFO - 18:45:05: worker thread finished; awaiting finish of 2 more threads\n",
      "INFO - 18:45:05: worker thread finished; awaiting finish of 1 more threads\n",
      "INFO - 18:45:05: worker thread finished; awaiting finish of 0 more threads\n",
      "INFO - 18:45:05: EPOCH - 3 : training on 295656 raw words (109244 effective words) took 0.9s, 128233 effective words/s\n",
      "INFO - 18:45:06: worker thread finished; awaiting finish of 6 more threads\n",
      "INFO - 18:45:06: worker thread finished; awaiting finish of 5 more threads\n",
      "INFO - 18:45:06: worker thread finished; awaiting finish of 4 more threads\n",
      "INFO - 18:45:06: worker thread finished; awaiting finish of 3 more threads\n",
      "INFO - 18:45:06: worker thread finished; awaiting finish of 2 more threads\n",
      "INFO - 18:45:06: worker thread finished; awaiting finish of 1 more threads\n",
      "INFO - 18:45:06: worker thread finished; awaiting finish of 0 more threads\n",
      "INFO - 18:45:06: EPOCH - 4 : training on 295656 raw words (109584 effective words) took 0.8s, 141904 effective words/s\n",
      "INFO - 18:45:07: worker thread finished; awaiting finish of 6 more threads\n",
      "INFO - 18:45:07: worker thread finished; awaiting finish of 5 more threads\n",
      "INFO - 18:45:07: worker thread finished; awaiting finish of 4 more threads\n",
      "INFO - 18:45:07: worker thread finished; awaiting finish of 3 more threads\n",
      "INFO - 18:45:07: worker thread finished; awaiting finish of 2 more threads\n",
      "INFO - 18:45:07: worker thread finished; awaiting finish of 1 more threads\n",
      "INFO - 18:45:07: worker thread finished; awaiting finish of 0 more threads\n",
      "INFO - 18:45:07: EPOCH - 5 : training on 295656 raw words (109418 effective words) took 0.8s, 137398 effective words/s\n",
      "INFO - 18:45:08: worker thread finished; awaiting finish of 6 more threads\n",
      "INFO - 18:45:08: worker thread finished; awaiting finish of 5 more threads\n",
      "INFO - 18:45:08: worker thread finished; awaiting finish of 4 more threads\n",
      "INFO - 18:45:08: worker thread finished; awaiting finish of 3 more threads\n",
      "INFO - 18:45:08: worker thread finished; awaiting finish of 2 more threads\n",
      "INFO - 18:45:08: worker thread finished; awaiting finish of 1 more threads\n",
      "INFO - 18:45:08: worker thread finished; awaiting finish of 0 more threads\n",
      "INFO - 18:45:08: EPOCH - 6 : training on 295656 raw words (109202 effective words) took 0.8s, 138383 effective words/s\n",
      "INFO - 18:45:09: worker thread finished; awaiting finish of 6 more threads\n",
      "INFO - 18:45:09: worker thread finished; awaiting finish of 5 more threads\n",
      "INFO - 18:45:09: worker thread finished; awaiting finish of 4 more threads\n",
      "INFO - 18:45:09: worker thread finished; awaiting finish of 3 more threads\n",
      "INFO - 18:45:09: worker thread finished; awaiting finish of 2 more threads\n",
      "INFO - 18:45:09: worker thread finished; awaiting finish of 1 more threads\n",
      "INFO - 18:45:09: worker thread finished; awaiting finish of 0 more threads\n",
      "INFO - 18:45:09: EPOCH - 7 : training on 295656 raw words (109301 effective words) took 0.8s, 137471 effective words/s\n",
      "INFO - 18:45:09: worker thread finished; awaiting finish of 6 more threads\n",
      "INFO - 18:45:09: worker thread finished; awaiting finish of 5 more threads\n",
      "INFO - 18:45:09: worker thread finished; awaiting finish of 4 more threads\n",
      "INFO - 18:45:09: worker thread finished; awaiting finish of 3 more threads\n",
      "INFO - 18:45:09: worker thread finished; awaiting finish of 2 more threads\n",
      "INFO - 18:45:09: worker thread finished; awaiting finish of 1 more threads\n",
      "INFO - 18:45:09: worker thread finished; awaiting finish of 0 more threads\n",
      "INFO - 18:45:09: EPOCH - 8 : training on 295656 raw words (109223 effective words) took 0.9s, 121894 effective words/s\n",
      "INFO - 18:45:10: worker thread finished; awaiting finish of 6 more threads\n",
      "INFO - 18:45:10: worker thread finished; awaiting finish of 5 more threads\n",
      "INFO - 18:45:10: worker thread finished; awaiting finish of 4 more threads\n",
      "INFO - 18:45:10: worker thread finished; awaiting finish of 3 more threads\n",
      "INFO - 18:45:10: worker thread finished; awaiting finish of 2 more threads\n",
      "INFO - 18:45:10: worker thread finished; awaiting finish of 1 more threads\n",
      "INFO - 18:45:10: worker thread finished; awaiting finish of 0 more threads\n",
      "INFO - 18:45:10: EPOCH - 9 : training on 295656 raw words (109576 effective words) took 0.8s, 135548 effective words/s\n",
      "INFO - 18:45:11: worker thread finished; awaiting finish of 6 more threads\n",
      "INFO - 18:45:11: worker thread finished; awaiting finish of 5 more threads\n",
      "INFO - 18:45:11: worker thread finished; awaiting finish of 4 more threads\n",
      "INFO - 18:45:11: worker thread finished; awaiting finish of 3 more threads\n",
      "INFO - 18:45:11: worker thread finished; awaiting finish of 2 more threads\n",
      "INFO - 18:45:11: worker thread finished; awaiting finish of 1 more threads\n",
      "INFO - 18:45:11: worker thread finished; awaiting finish of 0 more threads\n",
      "INFO - 18:45:11: EPOCH - 10 : training on 295656 raw words (109392 effective words) took 0.8s, 133093 effective words/s\n",
      "INFO - 18:45:12: worker thread finished; awaiting finish of 6 more threads\n",
      "INFO - 18:45:12: worker thread finished; awaiting finish of 5 more threads\n",
      "INFO - 18:45:12: worker thread finished; awaiting finish of 4 more threads\n",
      "INFO - 18:45:12: worker thread finished; awaiting finish of 3 more threads\n",
      "INFO - 18:45:12: worker thread finished; awaiting finish of 2 more threads\n",
      "INFO - 18:45:12: worker thread finished; awaiting finish of 1 more threads\n",
      "INFO - 18:45:12: worker thread finished; awaiting finish of 0 more threads\n",
      "INFO - 18:45:12: EPOCH - 11 : training on 295656 raw words (109296 effective words) took 0.8s, 134684 effective words/s\n",
      "INFO - 18:45:13: worker thread finished; awaiting finish of 6 more threads\n",
      "INFO - 18:45:13: worker thread finished; awaiting finish of 5 more threads\n",
      "INFO - 18:45:13: worker thread finished; awaiting finish of 4 more threads\n",
      "INFO - 18:45:13: worker thread finished; awaiting finish of 3 more threads\n",
      "INFO - 18:45:13: worker thread finished; awaiting finish of 2 more threads\n",
      "INFO - 18:45:13: worker thread finished; awaiting finish of 1 more threads\n",
      "INFO - 18:45:13: worker thread finished; awaiting finish of 0 more threads\n",
      "INFO - 18:45:13: EPOCH - 12 : training on 295656 raw words (109282 effective words) took 0.8s, 131124 effective words/s\n",
      "INFO - 18:45:14: worker thread finished; awaiting finish of 6 more threads\n",
      "INFO - 18:45:14: worker thread finished; awaiting finish of 5 more threads\n",
      "INFO - 18:45:14: worker thread finished; awaiting finish of 4 more threads\n",
      "INFO - 18:45:14: worker thread finished; awaiting finish of 3 more threads\n",
      "INFO - 18:45:14: worker thread finished; awaiting finish of 2 more threads\n"
     ]
    },
    {
     "name": "stderr",
     "output_type": "stream",
     "text": [
      "INFO - 18:45:14: worker thread finished; awaiting finish of 1 more threads\n",
      "INFO - 18:45:14: worker thread finished; awaiting finish of 0 more threads\n",
      "INFO - 18:45:14: EPOCH - 13 : training on 295656 raw words (109109 effective words) took 0.9s, 127279 effective words/s\n",
      "INFO - 18:45:14: worker thread finished; awaiting finish of 6 more threads\n",
      "INFO - 18:45:14: worker thread finished; awaiting finish of 5 more threads\n",
      "INFO - 18:45:14: worker thread finished; awaiting finish of 4 more threads\n",
      "INFO - 18:45:14: worker thread finished; awaiting finish of 3 more threads\n",
      "INFO - 18:45:14: worker thread finished; awaiting finish of 2 more threads\n",
      "INFO - 18:45:14: worker thread finished; awaiting finish of 1 more threads\n",
      "INFO - 18:45:14: worker thread finished; awaiting finish of 0 more threads\n",
      "INFO - 18:45:14: EPOCH - 14 : training on 295656 raw words (109197 effective words) took 0.8s, 134005 effective words/s\n",
      "INFO - 18:45:15: worker thread finished; awaiting finish of 6 more threads\n",
      "INFO - 18:45:15: worker thread finished; awaiting finish of 5 more threads\n",
      "INFO - 18:45:15: worker thread finished; awaiting finish of 4 more threads\n",
      "INFO - 18:45:15: worker thread finished; awaiting finish of 3 more threads\n",
      "INFO - 18:45:15: worker thread finished; awaiting finish of 2 more threads\n",
      "INFO - 18:45:15: worker thread finished; awaiting finish of 1 more threads\n",
      "INFO - 18:45:15: worker thread finished; awaiting finish of 0 more threads\n",
      "INFO - 18:45:15: EPOCH - 15 : training on 295656 raw words (109241 effective words) took 0.9s, 118354 effective words/s\n",
      "INFO - 18:45:16: worker thread finished; awaiting finish of 6 more threads\n",
      "INFO - 18:45:16: worker thread finished; awaiting finish of 5 more threads\n",
      "INFO - 18:45:16: worker thread finished; awaiting finish of 4 more threads\n",
      "INFO - 18:45:16: worker thread finished; awaiting finish of 3 more threads\n",
      "INFO - 18:45:16: worker thread finished; awaiting finish of 2 more threads\n",
      "INFO - 18:45:16: worker thread finished; awaiting finish of 1 more threads\n",
      "INFO - 18:45:16: worker thread finished; awaiting finish of 0 more threads\n",
      "INFO - 18:45:16: EPOCH - 16 : training on 295656 raw words (109308 effective words) took 0.8s, 134810 effective words/s\n",
      "INFO - 18:45:17: worker thread finished; awaiting finish of 6 more threads\n",
      "INFO - 18:45:17: worker thread finished; awaiting finish of 5 more threads\n",
      "INFO - 18:45:17: worker thread finished; awaiting finish of 4 more threads\n",
      "INFO - 18:45:17: worker thread finished; awaiting finish of 3 more threads\n",
      "INFO - 18:45:17: worker thread finished; awaiting finish of 2 more threads\n",
      "INFO - 18:45:17: worker thread finished; awaiting finish of 1 more threads\n",
      "INFO - 18:45:17: worker thread finished; awaiting finish of 0 more threads\n",
      "INFO - 18:45:17: EPOCH - 17 : training on 295656 raw words (109531 effective words) took 0.8s, 134951 effective words/s\n",
      "INFO - 18:45:18: worker thread finished; awaiting finish of 6 more threads\n",
      "INFO - 18:45:18: worker thread finished; awaiting finish of 5 more threads\n",
      "INFO - 18:45:18: worker thread finished; awaiting finish of 4 more threads\n",
      "INFO - 18:45:18: worker thread finished; awaiting finish of 3 more threads\n",
      "INFO - 18:45:18: worker thread finished; awaiting finish of 2 more threads\n",
      "INFO - 18:45:18: worker thread finished; awaiting finish of 1 more threads\n",
      "INFO - 18:45:18: worker thread finished; awaiting finish of 0 more threads\n",
      "INFO - 18:45:18: EPOCH - 18 : training on 295656 raw words (109607 effective words) took 0.8s, 136854 effective words/s\n",
      "INFO - 18:45:19: worker thread finished; awaiting finish of 6 more threads\n",
      "INFO - 18:45:19: worker thread finished; awaiting finish of 5 more threads\n",
      "INFO - 18:45:19: worker thread finished; awaiting finish of 4 more threads\n",
      "INFO - 18:45:19: worker thread finished; awaiting finish of 3 more threads\n",
      "INFO - 18:45:19: worker thread finished; awaiting finish of 2 more threads\n",
      "INFO - 18:45:19: worker thread finished; awaiting finish of 1 more threads\n",
      "INFO - 18:45:19: worker thread finished; awaiting finish of 0 more threads\n",
      "INFO - 18:45:19: EPOCH - 19 : training on 295656 raw words (109373 effective words) took 0.8s, 135497 effective words/s\n",
      "INFO - 18:45:19: worker thread finished; awaiting finish of 6 more threads\n",
      "INFO - 18:45:19: worker thread finished; awaiting finish of 5 more threads\n",
      "INFO - 18:45:19: worker thread finished; awaiting finish of 4 more threads\n",
      "INFO - 18:45:19: worker thread finished; awaiting finish of 3 more threads\n",
      "INFO - 18:45:19: worker thread finished; awaiting finish of 2 more threads\n",
      "INFO - 18:45:19: worker thread finished; awaiting finish of 1 more threads\n",
      "INFO - 18:45:19: worker thread finished; awaiting finish of 0 more threads\n",
      "INFO - 18:45:19: EPOCH - 20 : training on 295656 raw words (109150 effective words) took 0.8s, 129413 effective words/s\n",
      "INFO - 18:45:20: worker thread finished; awaiting finish of 6 more threads\n",
      "INFO - 18:45:20: worker thread finished; awaiting finish of 5 more threads\n",
      "INFO - 18:45:20: worker thread finished; awaiting finish of 4 more threads\n",
      "INFO - 18:45:20: worker thread finished; awaiting finish of 3 more threads\n",
      "INFO - 18:45:20: worker thread finished; awaiting finish of 2 more threads\n",
      "INFO - 18:45:20: worker thread finished; awaiting finish of 1 more threads\n",
      "INFO - 18:45:20: worker thread finished; awaiting finish of 0 more threads\n",
      "INFO - 18:45:20: EPOCH - 21 : training on 295656 raw words (109488 effective words) took 0.9s, 123119 effective words/s\n",
      "INFO - 18:45:21: worker thread finished; awaiting finish of 6 more threads\n",
      "INFO - 18:45:21: worker thread finished; awaiting finish of 5 more threads\n",
      "INFO - 18:45:21: worker thread finished; awaiting finish of 4 more threads\n",
      "INFO - 18:45:21: worker thread finished; awaiting finish of 3 more threads\n",
      "INFO - 18:45:21: worker thread finished; awaiting finish of 2 more threads\n",
      "INFO - 18:45:21: worker thread finished; awaiting finish of 1 more threads\n",
      "INFO - 18:45:21: worker thread finished; awaiting finish of 0 more threads\n",
      "INFO - 18:45:21: EPOCH - 22 : training on 295656 raw words (109357 effective words) took 0.8s, 134331 effective words/s\n",
      "INFO - 18:45:22: worker thread finished; awaiting finish of 6 more threads\n",
      "INFO - 18:45:22: worker thread finished; awaiting finish of 5 more threads\n",
      "INFO - 18:45:22: worker thread finished; awaiting finish of 4 more threads\n",
      "INFO - 18:45:22: worker thread finished; awaiting finish of 3 more threads\n",
      "INFO - 18:45:22: worker thread finished; awaiting finish of 2 more threads\n",
      "INFO - 18:45:22: worker thread finished; awaiting finish of 1 more threads\n",
      "INFO - 18:45:22: worker thread finished; awaiting finish of 0 more threads\n",
      "INFO - 18:45:22: EPOCH - 23 : training on 295656 raw words (109320 effective words) took 0.8s, 135191 effective words/s\n",
      "INFO - 18:45:23: worker thread finished; awaiting finish of 6 more threads\n",
      "INFO - 18:45:23: worker thread finished; awaiting finish of 5 more threads\n",
      "INFO - 18:45:23: worker thread finished; awaiting finish of 4 more threads\n",
      "INFO - 18:45:23: worker thread finished; awaiting finish of 3 more threads\n",
      "INFO - 18:45:23: worker thread finished; awaiting finish of 2 more threads\n",
      "INFO - 18:45:23: worker thread finished; awaiting finish of 1 more threads\n",
      "INFO - 18:45:23: worker thread finished; awaiting finish of 0 more threads\n",
      "INFO - 18:45:23: EPOCH - 24 : training on 295656 raw words (109382 effective words) took 0.8s, 135373 effective words/s\n",
      "INFO - 18:45:24: worker thread finished; awaiting finish of 6 more threads\n",
      "INFO - 18:45:24: worker thread finished; awaiting finish of 5 more threads\n",
      "INFO - 18:45:24: worker thread finished; awaiting finish of 4 more threads\n",
      "INFO - 18:45:24: worker thread finished; awaiting finish of 3 more threads\n",
      "INFO - 18:45:24: worker thread finished; awaiting finish of 2 more threads\n",
      "INFO - 18:45:24: worker thread finished; awaiting finish of 1 more threads\n",
      "INFO - 18:45:24: worker thread finished; awaiting finish of 0 more threads\n",
      "INFO - 18:45:24: EPOCH - 25 : training on 295656 raw words (109389 effective words) took 0.8s, 132829 effective words/s\n",
      "INFO - 18:45:25: worker thread finished; awaiting finish of 6 more threads\n",
      "INFO - 18:45:25: worker thread finished; awaiting finish of 5 more threads\n",
      "INFO - 18:45:25: worker thread finished; awaiting finish of 4 more threads\n"
     ]
    },
    {
     "name": "stderr",
     "output_type": "stream",
     "text": [
      "INFO - 18:45:25: worker thread finished; awaiting finish of 3 more threads\n",
      "INFO - 18:45:25: worker thread finished; awaiting finish of 2 more threads\n",
      "INFO - 18:45:25: worker thread finished; awaiting finish of 1 more threads\n",
      "INFO - 18:45:25: worker thread finished; awaiting finish of 0 more threads\n",
      "INFO - 18:45:25: EPOCH - 26 : training on 295656 raw words (109453 effective words) took 0.9s, 121487 effective words/s\n",
      "INFO - 18:45:25: worker thread finished; awaiting finish of 6 more threads\n",
      "INFO - 18:45:25: worker thread finished; awaiting finish of 5 more threads\n",
      "INFO - 18:45:25: worker thread finished; awaiting finish of 4 more threads\n",
      "INFO - 18:45:25: worker thread finished; awaiting finish of 3 more threads\n",
      "INFO - 18:45:25: worker thread finished; awaiting finish of 2 more threads\n",
      "INFO - 18:45:25: worker thread finished; awaiting finish of 1 more threads\n",
      "INFO - 18:45:25: worker thread finished; awaiting finish of 0 more threads\n",
      "INFO - 18:45:25: EPOCH - 27 : training on 295656 raw words (109288 effective words) took 0.8s, 130194 effective words/s\n",
      "INFO - 18:45:26: worker thread finished; awaiting finish of 6 more threads\n",
      "INFO - 18:45:26: worker thread finished; awaiting finish of 5 more threads\n",
      "INFO - 18:45:26: worker thread finished; awaiting finish of 4 more threads\n",
      "INFO - 18:45:26: worker thread finished; awaiting finish of 3 more threads\n",
      "INFO - 18:45:26: worker thread finished; awaiting finish of 2 more threads\n",
      "INFO - 18:45:26: worker thread finished; awaiting finish of 1 more threads\n",
      "INFO - 18:45:26: worker thread finished; awaiting finish of 0 more threads\n",
      "INFO - 18:45:26: EPOCH - 28 : training on 295656 raw words (109334 effective words) took 0.8s, 129871 effective words/s\n",
      "INFO - 18:45:27: worker thread finished; awaiting finish of 6 more threads\n",
      "INFO - 18:45:27: worker thread finished; awaiting finish of 5 more threads\n",
      "INFO - 18:45:27: worker thread finished; awaiting finish of 4 more threads\n",
      "INFO - 18:45:27: worker thread finished; awaiting finish of 3 more threads\n",
      "INFO - 18:45:27: worker thread finished; awaiting finish of 2 more threads\n",
      "INFO - 18:45:27: worker thread finished; awaiting finish of 1 more threads\n",
      "INFO - 18:45:27: worker thread finished; awaiting finish of 0 more threads\n",
      "INFO - 18:45:27: EPOCH - 29 : training on 295656 raw words (109439 effective words) took 0.8s, 129199 effective words/s\n",
      "INFO - 18:45:28: worker thread finished; awaiting finish of 6 more threads\n",
      "INFO - 18:45:28: worker thread finished; awaiting finish of 5 more threads\n",
      "INFO - 18:45:28: worker thread finished; awaiting finish of 4 more threads\n",
      "INFO - 18:45:28: worker thread finished; awaiting finish of 3 more threads\n",
      "INFO - 18:45:28: worker thread finished; awaiting finish of 2 more threads\n",
      "INFO - 18:45:28: worker thread finished; awaiting finish of 1 more threads\n",
      "INFO - 18:45:28: worker thread finished; awaiting finish of 0 more threads\n",
      "INFO - 18:45:28: EPOCH - 30 : training on 295656 raw words (109519 effective words) took 0.8s, 131338 effective words/s\n",
      "INFO - 18:45:29: worker thread finished; awaiting finish of 6 more threads\n",
      "INFO - 18:45:29: worker thread finished; awaiting finish of 5 more threads\n",
      "INFO - 18:45:29: worker thread finished; awaiting finish of 4 more threads\n",
      "INFO - 18:45:29: worker thread finished; awaiting finish of 3 more threads\n",
      "INFO - 18:45:29: worker thread finished; awaiting finish of 2 more threads\n",
      "INFO - 18:45:29: worker thread finished; awaiting finish of 1 more threads\n",
      "INFO - 18:45:29: worker thread finished; awaiting finish of 0 more threads\n",
      "INFO - 18:45:29: EPOCH - 31 : training on 295656 raw words (109620 effective words) took 0.8s, 132985 effective words/s\n",
      "INFO - 18:45:30: worker thread finished; awaiting finish of 6 more threads\n",
      "INFO - 18:45:30: worker thread finished; awaiting finish of 5 more threads\n",
      "INFO - 18:45:30: worker thread finished; awaiting finish of 4 more threads\n",
      "INFO - 18:45:30: worker thread finished; awaiting finish of 3 more threads\n",
      "INFO - 18:45:30: worker thread finished; awaiting finish of 2 more threads\n",
      "INFO - 18:45:30: worker thread finished; awaiting finish of 1 more threads\n",
      "INFO - 18:45:30: worker thread finished; awaiting finish of 0 more threads\n",
      "INFO - 18:45:30: EPOCH - 32 : training on 295656 raw words (109523 effective words) took 1.0s, 114501 effective words/s\n",
      "INFO - 18:45:31: worker thread finished; awaiting finish of 6 more threads\n",
      "INFO - 18:45:31: worker thread finished; awaiting finish of 5 more threads\n",
      "INFO - 18:45:31: worker thread finished; awaiting finish of 4 more threads\n",
      "INFO - 18:45:31: worker thread finished; awaiting finish of 3 more threads\n",
      "INFO - 18:45:31: worker thread finished; awaiting finish of 2 more threads\n",
      "INFO - 18:45:31: worker thread finished; awaiting finish of 1 more threads\n",
      "INFO - 18:45:31: worker thread finished; awaiting finish of 0 more threads\n",
      "INFO - 18:45:31: EPOCH - 33 : training on 295656 raw words (109532 effective words) took 0.9s, 122481 effective words/s\n",
      "INFO - 18:45:32: worker thread finished; awaiting finish of 6 more threads\n",
      "INFO - 18:45:32: worker thread finished; awaiting finish of 5 more threads\n",
      "INFO - 18:45:32: worker thread finished; awaiting finish of 4 more threads\n",
      "INFO - 18:45:32: worker thread finished; awaiting finish of 3 more threads\n",
      "INFO - 18:45:32: worker thread finished; awaiting finish of 2 more threads\n",
      "INFO - 18:45:32: worker thread finished; awaiting finish of 1 more threads\n",
      "INFO - 18:45:32: worker thread finished; awaiting finish of 0 more threads\n",
      "INFO - 18:45:32: EPOCH - 34 : training on 295656 raw words (109272 effective words) took 0.9s, 122157 effective words/s\n",
      "INFO - 18:45:32: worker thread finished; awaiting finish of 6 more threads\n",
      "INFO - 18:45:32: worker thread finished; awaiting finish of 5 more threads\n",
      "INFO - 18:45:32: worker thread finished; awaiting finish of 4 more threads\n",
      "INFO - 18:45:32: worker thread finished; awaiting finish of 3 more threads\n",
      "INFO - 18:45:32: worker thread finished; awaiting finish of 2 more threads\n",
      "INFO - 18:45:32: worker thread finished; awaiting finish of 1 more threads\n",
      "INFO - 18:45:32: worker thread finished; awaiting finish of 0 more threads\n",
      "INFO - 18:45:32: EPOCH - 35 : training on 295656 raw words (109434 effective words) took 0.9s, 123925 effective words/s\n",
      "INFO - 18:45:33: worker thread finished; awaiting finish of 6 more threads\n",
      "INFO - 18:45:33: worker thread finished; awaiting finish of 5 more threads\n",
      "INFO - 18:45:33: worker thread finished; awaiting finish of 4 more threads\n",
      "INFO - 18:45:33: worker thread finished; awaiting finish of 3 more threads\n",
      "INFO - 18:45:33: worker thread finished; awaiting finish of 2 more threads\n",
      "INFO - 18:45:33: worker thread finished; awaiting finish of 1 more threads\n",
      "INFO - 18:45:33: worker thread finished; awaiting finish of 0 more threads\n",
      "INFO - 18:45:33: EPOCH - 36 : training on 295656 raw words (109520 effective words) took 0.9s, 120657 effective words/s\n",
      "INFO - 18:45:34: worker thread finished; awaiting finish of 6 more threads\n",
      "INFO - 18:45:34: worker thread finished; awaiting finish of 5 more threads\n",
      "INFO - 18:45:34: worker thread finished; awaiting finish of 4 more threads\n",
      "INFO - 18:45:34: worker thread finished; awaiting finish of 3 more threads\n",
      "INFO - 18:45:34: worker thread finished; awaiting finish of 2 more threads\n",
      "INFO - 18:45:34: worker thread finished; awaiting finish of 1 more threads\n",
      "INFO - 18:45:34: worker thread finished; awaiting finish of 0 more threads\n",
      "INFO - 18:45:34: EPOCH - 37 : training on 295656 raw words (109500 effective words) took 0.8s, 129848 effective words/s\n",
      "INFO - 18:45:35: worker thread finished; awaiting finish of 6 more threads\n",
      "INFO - 18:45:35: worker thread finished; awaiting finish of 5 more threads\n",
      "INFO - 18:45:35: worker thread finished; awaiting finish of 4 more threads\n",
      "INFO - 18:45:35: worker thread finished; awaiting finish of 3 more threads\n",
      "INFO - 18:45:35: worker thread finished; awaiting finish of 2 more threads\n",
      "INFO - 18:45:35: worker thread finished; awaiting finish of 1 more threads\n",
      "INFO - 18:45:35: worker thread finished; awaiting finish of 0 more threads\n",
      "INFO - 18:45:35: EPOCH - 38 : training on 295656 raw words (109548 effective words) took 0.9s, 118949 effective words/s\n",
      "INFO - 18:45:36: worker thread finished; awaiting finish of 6 more threads\n"
     ]
    },
    {
     "name": "stderr",
     "output_type": "stream",
     "text": [
      "INFO - 18:45:36: worker thread finished; awaiting finish of 5 more threads\n",
      "INFO - 18:45:36: worker thread finished; awaiting finish of 4 more threads\n",
      "INFO - 18:45:36: worker thread finished; awaiting finish of 3 more threads\n",
      "INFO - 18:45:36: worker thread finished; awaiting finish of 2 more threads\n",
      "INFO - 18:45:36: worker thread finished; awaiting finish of 1 more threads\n",
      "INFO - 18:45:36: worker thread finished; awaiting finish of 0 more threads\n",
      "INFO - 18:45:36: EPOCH - 39 : training on 295656 raw words (109397 effective words) took 0.9s, 122914 effective words/s\n",
      "INFO - 18:45:37: worker thread finished; awaiting finish of 6 more threads\n",
      "INFO - 18:45:37: worker thread finished; awaiting finish of 5 more threads\n",
      "INFO - 18:45:37: worker thread finished; awaiting finish of 4 more threads\n",
      "INFO - 18:45:37: worker thread finished; awaiting finish of 3 more threads\n",
      "INFO - 18:45:37: worker thread finished; awaiting finish of 2 more threads\n",
      "INFO - 18:45:37: worker thread finished; awaiting finish of 1 more threads\n",
      "INFO - 18:45:37: worker thread finished; awaiting finish of 0 more threads\n",
      "INFO - 18:45:37: EPOCH - 40 : training on 295656 raw words (109222 effective words) took 0.9s, 115419 effective words/s\n",
      "INFO - 18:45:38: worker thread finished; awaiting finish of 6 more threads\n",
      "INFO - 18:45:38: worker thread finished; awaiting finish of 5 more threads\n",
      "INFO - 18:45:38: worker thread finished; awaiting finish of 4 more threads\n",
      "INFO - 18:45:38: worker thread finished; awaiting finish of 3 more threads\n",
      "INFO - 18:45:38: EPOCH 41 - PROGRESS: at 98.09% examples, 105967 words/s, in_qsize 0, out_qsize 4\n",
      "INFO - 18:45:38: worker thread finished; awaiting finish of 2 more threads\n",
      "INFO - 18:45:38: worker thread finished; awaiting finish of 1 more threads\n",
      "INFO - 18:45:38: worker thread finished; awaiting finish of 0 more threads\n",
      "INFO - 18:45:38: EPOCH - 41 : training on 295656 raw words (109471 effective words) took 1.0s, 107872 effective words/s\n",
      "INFO - 18:45:39: worker thread finished; awaiting finish of 6 more threads\n",
      "INFO - 18:45:39: worker thread finished; awaiting finish of 5 more threads\n",
      "INFO - 18:45:39: worker thread finished; awaiting finish of 4 more threads\n",
      "INFO - 18:45:39: worker thread finished; awaiting finish of 3 more threads\n",
      "INFO - 18:45:39: worker thread finished; awaiting finish of 2 more threads\n",
      "INFO - 18:45:39: worker thread finished; awaiting finish of 1 more threads\n",
      "INFO - 18:45:39: worker thread finished; awaiting finish of 0 more threads\n",
      "INFO - 18:45:39: EPOCH - 42 : training on 295656 raw words (109360 effective words) took 0.9s, 116642 effective words/s\n",
      "INFO - 18:45:40: worker thread finished; awaiting finish of 6 more threads\n",
      "INFO - 18:45:40: worker thread finished; awaiting finish of 5 more threads\n",
      "INFO - 18:45:40: worker thread finished; awaiting finish of 4 more threads\n",
      "INFO - 18:45:40: worker thread finished; awaiting finish of 3 more threads\n",
      "INFO - 18:45:40: worker thread finished; awaiting finish of 2 more threads\n",
      "INFO - 18:45:40: worker thread finished; awaiting finish of 1 more threads\n",
      "INFO - 18:45:40: worker thread finished; awaiting finish of 0 more threads\n",
      "INFO - 18:45:40: EPOCH - 43 : training on 295656 raw words (109761 effective words) took 0.9s, 118658 effective words/s\n",
      "INFO - 18:45:41: worker thread finished; awaiting finish of 6 more threads\n",
      "INFO - 18:45:41: worker thread finished; awaiting finish of 5 more threads\n",
      "INFO - 18:45:41: worker thread finished; awaiting finish of 4 more threads\n",
      "INFO - 18:45:41: worker thread finished; awaiting finish of 3 more threads\n",
      "INFO - 18:45:41: worker thread finished; awaiting finish of 2 more threads\n",
      "INFO - 18:45:41: worker thread finished; awaiting finish of 1 more threads\n",
      "INFO - 18:45:41: worker thread finished; awaiting finish of 0 more threads\n",
      "INFO - 18:45:41: EPOCH - 44 : training on 295656 raw words (109514 effective words) took 0.8s, 136297 effective words/s\n",
      "INFO - 18:45:42: worker thread finished; awaiting finish of 6 more threads\n",
      "INFO - 18:45:42: worker thread finished; awaiting finish of 5 more threads\n",
      "INFO - 18:45:42: worker thread finished; awaiting finish of 4 more threads\n",
      "INFO - 18:45:42: worker thread finished; awaiting finish of 3 more threads\n",
      "INFO - 18:45:42: worker thread finished; awaiting finish of 2 more threads\n",
      "INFO - 18:45:42: worker thread finished; awaiting finish of 1 more threads\n",
      "INFO - 18:45:42: worker thread finished; awaiting finish of 0 more threads\n",
      "INFO - 18:45:42: EPOCH - 45 : training on 295656 raw words (109476 effective words) took 0.9s, 126581 effective words/s\n",
      "INFO - 18:45:43: worker thread finished; awaiting finish of 6 more threads\n",
      "INFO - 18:45:43: worker thread finished; awaiting finish of 5 more threads\n",
      "INFO - 18:45:43: worker thread finished; awaiting finish of 4 more threads\n",
      "INFO - 18:45:43: worker thread finished; awaiting finish of 3 more threads\n",
      "INFO - 18:45:43: worker thread finished; awaiting finish of 2 more threads\n",
      "INFO - 18:45:43: worker thread finished; awaiting finish of 1 more threads\n",
      "INFO - 18:45:43: worker thread finished; awaiting finish of 0 more threads\n",
      "INFO - 18:45:43: EPOCH - 46 : training on 295656 raw words (109583 effective words) took 1.0s, 112937 effective words/s\n",
      "INFO - 18:45:44: EPOCH 47 - PROGRESS: at 94.86% examples, 103523 words/s, in_qsize 1, out_qsize 0\n",
      "INFO - 18:45:44: worker thread finished; awaiting finish of 6 more threads\n",
      "INFO - 18:45:44: worker thread finished; awaiting finish of 5 more threads\n",
      "INFO - 18:45:44: worker thread finished; awaiting finish of 4 more threads\n",
      "INFO - 18:45:44: worker thread finished; awaiting finish of 3 more threads\n",
      "INFO - 18:45:44: worker thread finished; awaiting finish of 2 more threads\n",
      "INFO - 18:45:44: worker thread finished; awaiting finish of 1 more threads\n",
      "INFO - 18:45:44: worker thread finished; awaiting finish of 0 more threads\n",
      "INFO - 18:45:44: EPOCH - 47 : training on 295656 raw words (109523 effective words) took 1.0s, 106879 effective words/s\n",
      "INFO - 18:45:45: worker thread finished; awaiting finish of 6 more threads\n",
      "INFO - 18:45:45: worker thread finished; awaiting finish of 5 more threads\n",
      "INFO - 18:45:45: worker thread finished; awaiting finish of 4 more threads\n",
      "INFO - 18:45:45: worker thread finished; awaiting finish of 3 more threads\n",
      "INFO - 18:45:45: worker thread finished; awaiting finish of 2 more threads\n",
      "INFO - 18:45:45: worker thread finished; awaiting finish of 1 more threads\n",
      "INFO - 18:45:45: worker thread finished; awaiting finish of 0 more threads\n",
      "INFO - 18:45:45: EPOCH - 48 : training on 295656 raw words (109227 effective words) took 0.9s, 122131 effective words/s\n",
      "INFO - 18:45:45: worker thread finished; awaiting finish of 6 more threads\n",
      "INFO - 18:45:45: worker thread finished; awaiting finish of 5 more threads\n",
      "INFO - 18:45:45: worker thread finished; awaiting finish of 4 more threads\n",
      "INFO - 18:45:45: worker thread finished; awaiting finish of 3 more threads\n",
      "INFO - 18:45:45: worker thread finished; awaiting finish of 2 more threads\n",
      "INFO - 18:45:45: worker thread finished; awaiting finish of 1 more threads\n",
      "INFO - 18:45:46: worker thread finished; awaiting finish of 0 more threads\n",
      "INFO - 18:45:46: EPOCH - 49 : training on 295656 raw words (109174 effective words) took 1.0s, 114792 effective words/s\n",
      "INFO - 18:45:46: worker thread finished; awaiting finish of 6 more threads\n",
      "INFO - 18:45:46: worker thread finished; awaiting finish of 5 more threads\n",
      "INFO - 18:45:46: worker thread finished; awaiting finish of 4 more threads\n",
      "INFO - 18:45:46: worker thread finished; awaiting finish of 3 more threads\n",
      "INFO - 18:45:46: worker thread finished; awaiting finish of 2 more threads\n",
      "INFO - 18:45:46: worker thread finished; awaiting finish of 1 more threads\n",
      "INFO - 18:45:46: worker thread finished; awaiting finish of 0 more threads\n",
      "INFO - 18:45:46: EPOCH - 50 : training on 295656 raw words (109244 effective words) took 0.9s, 123695 effective words/s\n",
      "INFO - 18:45:47: worker thread finished; awaiting finish of 6 more threads\n",
      "INFO - 18:45:47: worker thread finished; awaiting finish of 5 more threads\n",
      "INFO - 18:45:47: worker thread finished; awaiting finish of 4 more threads\n",
      "INFO - 18:45:47: worker thread finished; awaiting finish of 3 more threads\n",
      "INFO - 18:45:47: worker thread finished; awaiting finish of 2 more threads\n"
     ]
    },
    {
     "name": "stderr",
     "output_type": "stream",
     "text": [
      "INFO - 18:45:47: worker thread finished; awaiting finish of 1 more threads\n",
      "INFO - 18:45:47: worker thread finished; awaiting finish of 0 more threads\n",
      "INFO - 18:45:47: EPOCH - 51 : training on 295656 raw words (109647 effective words) took 0.9s, 127772 effective words/s\n",
      "INFO - 18:45:48: worker thread finished; awaiting finish of 6 more threads\n",
      "INFO - 18:45:48: worker thread finished; awaiting finish of 5 more threads\n",
      "INFO - 18:45:48: worker thread finished; awaiting finish of 4 more threads\n",
      "INFO - 18:45:48: worker thread finished; awaiting finish of 3 more threads\n",
      "INFO - 18:45:48: worker thread finished; awaiting finish of 2 more threads\n",
      "INFO - 18:45:48: worker thread finished; awaiting finish of 1 more threads\n",
      "INFO - 18:45:48: worker thread finished; awaiting finish of 0 more threads\n",
      "INFO - 18:45:48: EPOCH - 52 : training on 295656 raw words (109199 effective words) took 0.8s, 132163 effective words/s\n",
      "INFO - 18:45:49: worker thread finished; awaiting finish of 6 more threads\n",
      "INFO - 18:45:49: worker thread finished; awaiting finish of 5 more threads\n",
      "INFO - 18:45:49: worker thread finished; awaiting finish of 4 more threads\n",
      "INFO - 18:45:49: worker thread finished; awaiting finish of 3 more threads\n",
      "INFO - 18:45:49: worker thread finished; awaiting finish of 2 more threads\n",
      "INFO - 18:45:49: worker thread finished; awaiting finish of 1 more threads\n",
      "INFO - 18:45:49: worker thread finished; awaiting finish of 0 more threads\n",
      "INFO - 18:45:49: EPOCH - 53 : training on 295656 raw words (109139 effective words) took 1.0s, 111110 effective words/s\n",
      "INFO - 18:45:50: EPOCH 54 - PROGRESS: at 94.86% examples, 103004 words/s, in_qsize 0, out_qsize 0\n",
      "INFO - 18:45:50: worker thread finished; awaiting finish of 6 more threads\n",
      "INFO - 18:45:50: worker thread finished; awaiting finish of 5 more threads\n",
      "INFO - 18:45:50: worker thread finished; awaiting finish of 4 more threads\n",
      "INFO - 18:45:50: worker thread finished; awaiting finish of 3 more threads\n",
      "INFO - 18:45:50: worker thread finished; awaiting finish of 2 more threads\n",
      "INFO - 18:45:50: worker thread finished; awaiting finish of 1 more threads\n",
      "INFO - 18:45:50: worker thread finished; awaiting finish of 0 more threads\n",
      "INFO - 18:45:50: EPOCH - 54 : training on 295656 raw words (109531 effective words) took 1.0s, 105895 effective words/s\n",
      "INFO - 18:45:51: EPOCH 55 - PROGRESS: at 88.41% examples, 94364 words/s, in_qsize 0, out_qsize 0\n",
      "INFO - 18:45:51: worker thread finished; awaiting finish of 6 more threads\n",
      "INFO - 18:45:51: worker thread finished; awaiting finish of 5 more threads\n",
      "INFO - 18:45:51: worker thread finished; awaiting finish of 4 more threads\n",
      "INFO - 18:45:51: worker thread finished; awaiting finish of 3 more threads\n",
      "INFO - 18:45:51: worker thread finished; awaiting finish of 2 more threads\n",
      "INFO - 18:45:51: worker thread finished; awaiting finish of 1 more threads\n",
      "INFO - 18:45:51: worker thread finished; awaiting finish of 0 more threads\n",
      "INFO - 18:45:51: EPOCH - 55 : training on 295656 raw words (109646 effective words) took 1.1s, 98573 effective words/s\n",
      "INFO - 18:45:52: worker thread finished; awaiting finish of 6 more threads\n",
      "INFO - 18:45:52: worker thread finished; awaiting finish of 5 more threads\n",
      "INFO - 18:45:52: worker thread finished; awaiting finish of 4 more threads\n",
      "INFO - 18:45:52: worker thread finished; awaiting finish of 3 more threads\n",
      "INFO - 18:45:52: worker thread finished; awaiting finish of 2 more threads\n",
      "INFO - 18:45:52: worker thread finished; awaiting finish of 1 more threads\n",
      "INFO - 18:45:52: worker thread finished; awaiting finish of 0 more threads\n",
      "INFO - 18:45:52: EPOCH - 56 : training on 295656 raw words (109054 effective words) took 0.9s, 127822 effective words/s\n",
      "INFO - 18:45:53: worker thread finished; awaiting finish of 6 more threads\n",
      "INFO - 18:45:53: worker thread finished; awaiting finish of 5 more threads\n",
      "INFO - 18:45:53: worker thread finished; awaiting finish of 4 more threads\n",
      "INFO - 18:45:53: worker thread finished; awaiting finish of 3 more threads\n",
      "INFO - 18:45:53: worker thread finished; awaiting finish of 2 more threads\n",
      "INFO - 18:45:53: worker thread finished; awaiting finish of 1 more threads\n",
      "INFO - 18:45:53: worker thread finished; awaiting finish of 0 more threads\n",
      "INFO - 18:45:53: EPOCH - 57 : training on 295656 raw words (109442 effective words) took 0.9s, 128310 effective words/s\n",
      "INFO - 18:45:54: worker thread finished; awaiting finish of 6 more threads\n",
      "INFO - 18:45:54: worker thread finished; awaiting finish of 5 more threads\n",
      "INFO - 18:45:54: worker thread finished; awaiting finish of 4 more threads\n",
      "INFO - 18:45:54: worker thread finished; awaiting finish of 3 more threads\n",
      "INFO - 18:45:54: worker thread finished; awaiting finish of 2 more threads\n",
      "INFO - 18:45:54: worker thread finished; awaiting finish of 1 more threads\n",
      "INFO - 18:45:54: worker thread finished; awaiting finish of 0 more threads\n",
      "INFO - 18:45:54: EPOCH - 58 : training on 295656 raw words (109488 effective words) took 0.9s, 120978 effective words/s\n",
      "INFO - 18:45:55: worker thread finished; awaiting finish of 6 more threads\n",
      "INFO - 18:45:55: worker thread finished; awaiting finish of 5 more threads\n",
      "INFO - 18:45:55: worker thread finished; awaiting finish of 4 more threads\n",
      "INFO - 18:45:55: worker thread finished; awaiting finish of 3 more threads\n",
      "INFO - 18:45:55: worker thread finished; awaiting finish of 2 more threads\n",
      "INFO - 18:45:55: worker thread finished; awaiting finish of 1 more threads\n",
      "INFO - 18:45:55: worker thread finished; awaiting finish of 0 more threads\n",
      "INFO - 18:45:55: EPOCH - 59 : training on 295656 raw words (109669 effective words) took 0.9s, 126107 effective words/s\n",
      "INFO - 18:45:56: worker thread finished; awaiting finish of 6 more threads\n",
      "INFO - 18:45:56: worker thread finished; awaiting finish of 5 more threads\n",
      "INFO - 18:45:56: worker thread finished; awaiting finish of 4 more threads\n",
      "INFO - 18:45:56: worker thread finished; awaiting finish of 3 more threads\n",
      "INFO - 18:45:56: worker thread finished; awaiting finish of 2 more threads\n",
      "INFO - 18:45:56: worker thread finished; awaiting finish of 1 more threads\n",
      "INFO - 18:45:56: worker thread finished; awaiting finish of 0 more threads\n",
      "INFO - 18:45:56: EPOCH - 60 : training on 295656 raw words (109593 effective words) took 1.0s, 110954 effective words/s\n",
      "INFO - 18:45:56: training on a 17739360 raw words (6563665 effective words) took 52.8s, 124306 effective words/s\n",
      "INFO - 18:45:56: precomputing L2-norms of word weight vectors\n"
     ]
    },
    {
     "name": "stdout",
     "output_type": "stream",
     "text": [
      "Time to train the model: 0.88 mins\n"
     ]
    }
   ],
   "source": [
    "start = time()\n",
    "\n",
    "w2v_model.train(sentences, total_examples=w2v_model.corpus_count, epochs=60, report_delay=1)\n",
    "\n",
    "print('Time to train the model: {} mins'.format(round((time() - start) / 60, 2)))\n",
    "\n",
    "w2v_model.init_sims(replace=True)"
   ]
  },
  {
   "cell_type": "code",
   "execution_count": 21,
   "metadata": {},
   "outputs": [
    {
     "name": "stderr",
     "output_type": "stream",
     "text": [
      "INFO - 18:48:05: saving Word2Vec object under word2vec.model, separately None\n",
      "INFO - 18:48:05: not storing attribute vectors_norm\n",
      "INFO - 18:48:05: not storing attribute cum_table\n",
      "INFO - 18:48:05: saved word2vec.model\n"
     ]
    }
   ],
   "source": [
    "\n",
    "w2v_model.save(\"word2vec.model\")"
   ]
  },
  {
   "cell_type": "code",
   "execution_count": 22,
   "metadata": {},
   "outputs": [
    {
     "data": {
      "text/plain": [
       "[('mahyartousi', 0.7375154495239258),\n",
       " ('blacklivesmatter', 0.6665360927581787),\n",
       " ('blacklivesmatteruk', 0.6616393327713013),\n",
       " ('londonprotests', 0.641721248626709),\n",
       " ('savage', 0.6058285236358643),\n",
       " ('peacefulprotest', 0.5977144241333008),\n",
       " ('throat', 0.5964519381523132),\n",
       " ('alllivesmatter', 0.5962355136871338),\n",
       " ('whitelivesmatter_alllivesmatter', 0.5953236222267151),\n",
       " ('alllivesmatter_bluelivesmatter', 0.5834579467773438)]"
      ]
     },
     "execution_count": 22,
     "metadata": {},
     "output_type": "execute_result"
    }
   ],
   "source": [
    "w2v_model.wv.most_similar(positive=[\"blm\"])"
   ]
  },
  {
   "cell_type": "code",
   "execution_count": 28,
   "metadata": {},
   "outputs": [
    {
     "data": {
      "text/plain": [
       "[('donaldtrump', 0.6288428902626038),\n",
       " ('trumpdictatorship', 0.5091039538383484),\n",
       " ('potus', 0.4876251220703125),\n",
       " ('donaldjtrump', 0.4774830937385559),\n",
       " ('usa', 0.4763261079788208),\n",
       " ('realdonaldtrump', 0.4703081250190735),\n",
       " ('donald_trump', 0.4647345542907715),\n",
       " ('gold', 0.4611928462982178),\n",
       " ('putin', 0.4549914598464966),\n",
       " ('bunker', 0.4526779055595398)]"
      ]
     },
     "execution_count": 28,
     "metadata": {},
     "output_type": "execute_result"
    }
   ],
   "source": [
    "w2v_model.wv.most_similar(positive=[\"trump\"])"
   ]
  },
  {
   "cell_type": "code",
   "execution_count": 29,
   "metadata": {},
   "outputs": [
    {
     "data": {
      "text/plain": [
       "0.62884283"
      ]
     },
     "execution_count": 29,
     "metadata": {},
     "output_type": "execute_result"
    }
   ],
   "source": [
    "w2v_model.wv.similarity(\"donaldtrump\", 'trump')"
   ]
  },
  {
   "cell_type": "code",
   "execution_count": 32,
   "metadata": {},
   "outputs": [],
   "source": [
    "file_export = file_model.copy()\n",
    "file_export.full_text = file_export.full_text.apply(lambda x: ' '.join(bigram[x]))\n",
    "file_export['Tweet']=file_cleaned['tweet']\n",
    "file_export['hashtags']=file_cleaned['hashtags']"
   ]
  },
  {
   "cell_type": "code",
   "execution_count": 33,
   "metadata": {},
   "outputs": [],
   "source": [
    "file_export.to_csv('cleaned_datasets.csv', index=False)"
   ]
  },
  {
   "cell_type": "markdown",
   "metadata": {},
   "source": [
    "#example\n"
   ]
  },
  {
   "cell_type": "code",
   "execution_count": 174,
   "metadata": {},
   "outputs": [],
   "source": [
    "import re\n",
    "strng= \"rt njkhhu @realDonaldTrump Youâ€™re 3rd notworshippers9rt  jhyy 45 are NOT in the majority.â€¦ https://t.co/49lM1eO78J\""
   ]
  },
  {
   "cell_type": "code",
   "execution_count": 175,
   "metadata": {},
   "outputs": [],
   "source": [
    "strng=re.sub(r'\\w+:\\/{2}[\\d\\w-]+(\\.[\\d\\w-]+)*(?:(?:\\/[^\\s/]*))*',\" \",strng)\n",
    "strng=re.sub(r' +@[a-zA-Z]\\S+ ',\" \",strng)\n",
    "strng = re.sub(r' [0-9]* ',\" \",strng)\n",
    "strng= re.sub(r'^rt ',\"\",strng)"
   ]
  },
  {
   "cell_type": "code",
   "execution_count": 176,
   "metadata": {},
   "outputs": [
    {
     "name": "stdout",
     "output_type": "stream",
     "text": [
      "njkhhu Youâ€™re 3rd notworshippers9rt jhyy are NOT in the majority.â€¦ \n"
     ]
    }
   ],
   "source": [
    "print(strng)"
   ]
  },
  {
   "cell_type": "code",
   "execution_count": 168,
   "metadata": {},
   "outputs": [
    {
     "name": "stdout",
     "output_type": "stream",
     "text": [
      "text1\n",
      "text2\n",
      "\n",
      "text3\n",
      "text4\n",
      "\n",
      "text5\n",
      "text6\n"
     ]
    }
   ],
   "source": [
    "import re\n",
    "thestring = \"text1\\ntext2\\nhttp://url.com/bla1/blah1/\\ntext3\\ntext4\\nhttp://url.com/bla2/blah2/\\ntext5\\ntext6\"\n",
    "\n",
    "URLless_string = re.sub(r'\\w+:\\/{2}[\\d\\w-]+(\\.[\\d\\w-]+)*(?:(?:\\/[^\\s/]*))*', '', thestring)\n",
    "print (URLless_string)"
   ]
  },
  {
   "cell_type": "code",
   "execution_count": 1,
   "metadata": {},
   "outputs": [
    {
     "name": "stderr",
     "output_type": "stream",
     "text": [
      "[nltk_data] Downloading package wordnet to\n",
      "[nltk_data]     C:\\Users\\PRIYANKA\\AppData\\Roaming\\nltk_data...\n",
      "[nltk_data]   Package wordnet is already up-to-date!\n"
     ]
    },
    {
     "data": {
      "text/plain": [
       "True"
      ]
     },
     "execution_count": 1,
     "metadata": {},
     "output_type": "execute_result"
    }
   ],
   "source": [
    "import nltk\n",
    "nltk.download('wordnet')"
   ]
  },
  {
   "cell_type": "code",
   "execution_count": 213,
   "metadata": {},
   "outputs": [],
   "source": [
    "strng= \"rt njkhhu @realDonaldTrump Youâ€™re better 3rd notworshippers9rt studies jhyy 45 are NOT in the majority.â€¦ https://t.co/49lM1eO78J\""
   ]
  },
  {
   "cell_type": "code",
   "execution_count": 187,
   "metadata": {},
   "outputs": [
    {
     "name": "stdout",
     "output_type": "stream",
     "text": [
      "rt njkhhu @realDonaldTrump Youâ€™re 3rd notworshippers9rt studies jhyy 45 are NOT in the majority.â€¦ https://t.co/49lM1eO78J\n",
      "rocks : rock\n",
      "corpora : corpus\n",
      "better : good\n"
     ]
    }
   ],
   "source": [
    "\n",
    "from nltk.stem import WordNetLemmatizer \n",
    "  \n",
    "lemmatizer = WordNetLemmatizer() \n",
    "\n",
    "print(lemmatizer.lemmatize(strng))\n",
    "  \n",
    "print(\"rocks :\", lemmatizer.lemmatize(\"rocks\")) \n",
    "print(\"corpora :\", lemmatizer.lemmatize(\"corpora\")) \n",
    "  \n",
    "# a denotes adjective in \"pos\" \n",
    "print(\"better :\", lemmatizer.lemmatize(\"better\", pos =\"a\"))"
   ]
  },
  {
   "cell_type": "code",
   "execution_count": 214,
   "metadata": {},
   "outputs": [
    {
     "name": "stdout",
     "output_type": "stream",
     "text": [
      "rt\n",
      "njkhhu\n",
      "@realDonaldTrump\n",
      "Youâ€™re\n",
      "better\n",
      "3rd\n",
      "notworshippers9rt\n",
      "study\n",
      "jhyy\n",
      "45\n",
      "are\n",
      "NOT\n",
      "in\n",
      "the\n",
      "majority.â€¦\n",
      "https://t.co/49lM1eO78J\n"
     ]
    }
   ],
   "source": [
    "for word in strng.split():\n",
    "    print(lemmatizer.lemmatize(word))"
   ]
  },
  {
   "cell_type": "code",
   "execution_count": 64,
   "metadata": {},
   "outputs": [
    {
     "name": "stdout",
     "output_type": "stream",
     "text": [
      "rt njkhhu @realDonaldTrump Youâ€™re 3rd notworshippers9rt studies jhyy 45 are NOT in the majority.â€¦ https://t.co/49lM1eO78J\n"
     ]
    }
   ],
   "source": [
    "lemmatizer = WordNetLemmatizer()\n",
    "for w in strng.split( ):\n",
    "    w=strng.replace(w,lemmatizer.lemmatize(w))\n",
    "print(w)\n",
    "    #print(\"Lemma for {} is {}\".format(w, lemmatizer.lemmatize(w)))\n"
   ]
  },
  {
   "cell_type": "code",
   "execution_count": 94,
   "metadata": {},
   "outputs": [
    {
     "ename": "IndentationError",
     "evalue": "unexpected indent (<ipython-input-94-df413601eb95>, line 2)",
     "output_type": "error",
     "traceback": [
      "\u001b[1;36m  File \u001b[1;32m\"<ipython-input-94-df413601eb95>\"\u001b[1;36m, line \u001b[1;32m2\u001b[0m\n\u001b[1;33m    from nltk.stem import \tWordNetLemmatizer\u001b[0m\n\u001b[1;37m    ^\u001b[0m\n\u001b[1;31mIndentationError\u001b[0m\u001b[1;31m:\u001b[0m unexpected indent\n"
     ]
    }
   ],
   "source": [
    "\n",
    "\twordnet_lemmatizer = WordNetLemmatizer()\n",
    "\ttext = \"studies studying cries cry\"\n",
    "\ttokenization = nltk.word_tokenize(text)\n",
    "\t for w in tokenization:\n",
    "\t\tprint(\"Lemma for {} is {}\".format(w, wordnet_lemmatizer.lemmatize(w)))  "
   ]
  },
  {
   "cell_type": "code",
   "execution_count": 13,
   "metadata": {},
   "outputs": [
    {
     "ename": "NameError",
     "evalue": "name 'reviews_train_clean' is not defined",
     "output_type": "error",
     "traceback": [
      "\u001b[1;31m---------------------------------------------------------------------------\u001b[0m",
      "\u001b[1;31mNameError\u001b[0m                                 Traceback (most recent call last)",
      "\u001b[1;32m<ipython-input-13-873647eb208f>\u001b[0m in \u001b[0;36m<module>\u001b[1;34m\u001b[0m\n\u001b[0;32m      4\u001b[0m     \u001b[1;32mreturn\u001b[0m \u001b[1;33m[\u001b[0m\u001b[1;34m' '\u001b[0m\u001b[1;33m.\u001b[0m\u001b[0mjoin\u001b[0m\u001b[1;33m(\u001b[0m\u001b[1;33m[\u001b[0m\u001b[0mstemmer\u001b[0m\u001b[1;33m.\u001b[0m\u001b[0mstem\u001b[0m\u001b[1;33m(\u001b[0m\u001b[0mword\u001b[0m\u001b[1;33m)\u001b[0m \u001b[1;32mfor\u001b[0m \u001b[0mword\u001b[0m \u001b[1;32min\u001b[0m \u001b[0mreview\u001b[0m\u001b[1;33m.\u001b[0m\u001b[0msplit\u001b[0m\u001b[1;33m(\u001b[0m\u001b[1;33m)\u001b[0m\u001b[1;33m]\u001b[0m\u001b[1;33m)\u001b[0m \u001b[1;32mfor\u001b[0m \u001b[0mreview\u001b[0m \u001b[1;32min\u001b[0m \u001b[0mcorpus\u001b[0m\u001b[1;33m]\u001b[0m\u001b[1;33m\u001b[0m\u001b[1;33m\u001b[0m\u001b[0m\n\u001b[0;32m      5\u001b[0m \u001b[1;33m\u001b[0m\u001b[0m\n\u001b[1;32m----> 6\u001b[1;33m \u001b[0mstemmed_reviews\u001b[0m \u001b[1;33m=\u001b[0m \u001b[0mget_stemmed_text\u001b[0m\u001b[1;33m(\u001b[0m\u001b[0mreviews_train_clean\u001b[0m\u001b[1;33m)\u001b[0m\u001b[1;33m\u001b[0m\u001b[1;33m\u001b[0m\u001b[0m\n\u001b[0m",
      "\u001b[1;31mNameError\u001b[0m: name 'reviews_train_clean' is not defined"
     ]
    }
   ],
   "source": [
    "def get_stemmed_text(corpus):\n",
    "    from nltk.stem.porter import PorterStemmer\n",
    "    stemmer = PorterStemmer()\n",
    "    return [' '.join([stemmer.stem(word) for word in review.split()]) for review in corpus]\n",
    "\n",
    "stemmed_reviews = get_stemmed_text(reviews_train_clean)"
   ]
  },
  {
   "cell_type": "code",
   "execution_count": 14,
   "metadata": {},
   "outputs": [
    {
     "ename": "NameError",
     "evalue": "name 'reviews_train_clean' is not defined",
     "output_type": "error",
     "traceback": [
      "\u001b[1;31m---------------------------------------------------------------------------\u001b[0m",
      "\u001b[1;31mNameError\u001b[0m                                 Traceback (most recent call last)",
      "\u001b[1;32m<ipython-input-14-329e97c281bf>\u001b[0m in \u001b[0;36m<module>\u001b[1;34m\u001b[0m\n\u001b[0;32m      4\u001b[0m     \u001b[1;32mreturn\u001b[0m \u001b[1;33m[\u001b[0m\u001b[1;34m' '\u001b[0m\u001b[1;33m.\u001b[0m\u001b[0mjoin\u001b[0m\u001b[1;33m(\u001b[0m\u001b[1;33m[\u001b[0m\u001b[0mlemmatizer\u001b[0m\u001b[1;33m.\u001b[0m\u001b[0mlemmatize\u001b[0m\u001b[1;33m(\u001b[0m\u001b[0mword\u001b[0m\u001b[1;33m)\u001b[0m \u001b[1;32mfor\u001b[0m \u001b[0mword\u001b[0m \u001b[1;32min\u001b[0m \u001b[0mreview\u001b[0m\u001b[1;33m.\u001b[0m\u001b[0msplit\u001b[0m\u001b[1;33m(\u001b[0m\u001b[1;33m)\u001b[0m\u001b[1;33m]\u001b[0m\u001b[1;33m)\u001b[0m \u001b[1;32mfor\u001b[0m \u001b[0mreview\u001b[0m \u001b[1;32min\u001b[0m \u001b[0mcorpus\u001b[0m\u001b[1;33m]\u001b[0m\u001b[1;33m\u001b[0m\u001b[1;33m\u001b[0m\u001b[0m\n\u001b[0;32m      5\u001b[0m \u001b[1;33m\u001b[0m\u001b[0m\n\u001b[1;32m----> 6\u001b[1;33m \u001b[0mlemmatized_reviews\u001b[0m \u001b[1;33m=\u001b[0m \u001b[0mget_lemmatized_text\u001b[0m\u001b[1;33m(\u001b[0m\u001b[0mreviews_train_clean\u001b[0m\u001b[1;33m)\u001b[0m\u001b[1;33m\u001b[0m\u001b[1;33m\u001b[0m\u001b[0m\n\u001b[0m",
      "\u001b[1;31mNameError\u001b[0m: name 'reviews_train_clean' is not defined"
     ]
    }
   ],
   "source": [
    "def get_lemmatized_text(corpus):\n",
    "    from nltk.stem import WordNetLemmatizer\n",
    "    lemmatizer = WordNetLemmatizer()\n",
    "    return [' '.join([lemmatizer.lemmatize(word) for word in review.split()]) for review in corpus]\n",
    "\n",
    "lemmatized_reviews = get_lemmatized_text(reviews_train_clean)"
   ]
  },
  {
   "cell_type": "code",
   "execution_count": 15,
   "metadata": {},
   "outputs": [],
   "source": [
    "result = translator.translate('Abramos hilo de lo que sucediÃ³ esta madrugada para los que apenas se acaban de despertar ')"
   ]
  },
  {
   "cell_type": "code",
   "execution_count": 16,
   "metadata": {},
   "outputs": [
    {
     "ename": "AttributeError",
     "evalue": "'str' object has no attribute 'text'",
     "output_type": "error",
     "traceback": [
      "\u001b[1;31m---------------------------------------------------------------------------\u001b[0m",
      "\u001b[1;31mAttributeError\u001b[0m                            Traceback (most recent call last)",
      "\u001b[1;32m<ipython-input-16-c7859198723d>\u001b[0m in \u001b[0;36m<module>\u001b[1;34m\u001b[0m\n\u001b[1;32m----> 1\u001b[1;33m \u001b[0mprint\u001b[0m\u001b[1;33m(\u001b[0m\u001b[0mresult\u001b[0m\u001b[1;33m.\u001b[0m\u001b[0mtext\u001b[0m\u001b[1;33m)\u001b[0m\u001b[1;33m\u001b[0m\u001b[1;33m\u001b[0m\u001b[0m\n\u001b[0m",
      "\u001b[1;31mAttributeError\u001b[0m: 'str' object has no attribute 'text'"
     ]
    }
   ],
   "source": [
    "print(result.text)"
   ]
  },
  {
   "cell_type": "code",
   "execution_count": 29,
   "metadata": {},
   "outputs": [
    {
     "name": "stdout",
     "output_type": "stream",
     "text": [
      "Dobrý deň\n",
      "majestátny orol\n",
      "krehká dohoda\n"
     ]
    }
   ],
   "source": [
    "#correct\n",
    "from translate import Translator\n",
    "data = ['Dobrý deň', 'majestátny orol', 'krehká dohoda']\n",
    "translator= Translator(to_lang=\"English\")\n",
    "\n",
    "for word in data:\n",
    "    translated = translator.translate(word)\n",
    "    print(translated)"
   ]
  },
  {
   "cell_type": "code",
   "execution_count": null,
   "metadata": {},
   "outputs": [],
   "source": [
    "df['stemmed'] = df['unstemmed'].apply(lambda x: [stemmer.stem(y) for y in x]) # Stem every word.\n",
    "df = df.drop(columns=['unstemmed'])"
   ]
  }
 ],
 "metadata": {
  "kernelspec": {
   "display_name": "Python 3",
   "language": "python",
   "name": "python3"
  },
  "language_info": {
   "codemirror_mode": {
    "name": "ipython",
    "version": 3
   },
   "file_extension": ".py",
   "mimetype": "text/x-python",
   "name": "python",
   "nbconvert_exporter": "python",
   "pygments_lexer": "ipython3",
   "version": "3.7.4"
  }
 },
 "nbformat": 4,
 "nbformat_minor": 2
}
