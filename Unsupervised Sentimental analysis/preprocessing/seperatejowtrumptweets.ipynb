{
 "cells": [
  {
   "cell_type": "code",
   "execution_count": 51,
   "metadata": {},
   "outputs": [],
   "source": [
    "import csv\n",
    "import pandas as pd"
   ]
  },
  {
   "cell_type": "code",
   "execution_count": 52,
   "metadata": {},
   "outputs": [],
   "source": [
    "def seperate_files(outfile,infile,lis):\n",
    "    var_list = ['Tweets','Prediction']\n",
    "    writer = csv.DictWriter(outfile, fieldnames = var_list, lineterminator = '\\n')\n",
    "    writer.writeheader()\n",
    "    x=csv.reader(infile)\n",
    "    for row in x:\n",
    "        tw={}\n",
    "        hasht=row[1]\n",
    "        for i in hasht.split(','):\n",
    "            if i in lis:\n",
    "                tw['Tweets']=row[0]\n",
    "                tw['Prediction']=row[2]\n",
    "                #print(tw)\n",
    "                writer.writerow(tw)"
   ]
  },
  {
   "cell_type": "code",
   "execution_count": 108,
   "metadata": {},
   "outputs": [],
   "source": [
    "with open('final_prediction.csv','r',encoding='utf-8') as infile:\n",
    "    with open('trumpTweets.csv','w',encoding='utf-8')as outfile:\n",
    "        l1=['votehimout','trumpresignnow','donaldout',\n",
    "            'dictatortrump','blackvotesmatter','americaortrump','uselection2020',\n",
    "            'alllivesmatter','trumpsupporters','trumpisaracist','trumpout2020'\n",
    "            'georgefloydwasmurdered','donaldout',\n",
    "            'protest2020','bunkerboy','notmypresident','trumpdictatorship',\n",
    "            'womenfortrump','trumpresignnow','votetrumpout2020','dumptrump']\n",
    "        seperate_files(outfile,infile,l1)"
   ]
  },
  {
   "cell_type": "code",
   "execution_count": 109,
   "metadata": {},
   "outputs": [],
   "source": [
    "with open('final_prediction.csv','r',encoding='utf-8') as infile:\n",
    "    with open('joeTweets.csv','w',encoding='utf-8')as outfiles:\n",
    "        l2=['presidentbiden','republicansforjoebiden','election2020','votebluetoendthisnightmare','trump','bluewave','blackvotesmatter','bidendropout','republicansforbiden','bluelivesmatter','donaldtrump','biden2020victory','uselection2020','teamjoe','joe','votejoe','gojoe','votejoebidentosaveamerica','makeamericagreatagain','bidengate','youaintblack','bideniscorrupt','joebidenisaracist','hunterbiden','joebiden','biden','maga','gojoe2020','baidenisracist','joebiden2020','votejoebiden2020','votebluetosaveamerica','blacklivesmatter','joebidenisrapist','joebedinisracist','bidenforpresident2020','biden2020','joecool','joebidenforpresident2020','votebluetosaveamerica2020']\n",
    "        seperate_files(outfiles,infile,l2)"
   ]
  },
  {
   "cell_type": "code",
   "execution_count": null,
   "metadata": {},
   "outputs": [],
   "source": []
  },
  {
   "cell_type": "code",
   "execution_count": null,
   "metadata": {},
   "outputs": [],
   "source": []
  }
 ],
 "metadata": {
  "kernelspec": {
   "display_name": "Python 3",
   "language": "python",
   "name": "python3"
  },
  "language_info": {
   "codemirror_mode": {
    "name": "ipython",
    "version": 3
   },
   "file_extension": ".py",
   "mimetype": "text/x-python",
   "name": "python",
   "nbconvert_exporter": "python",
   "pygments_lexer": "ipython3",
   "version": "3.7.4"
  }
 },
 "nbformat": 4,
 "nbformat_minor": 2
}
