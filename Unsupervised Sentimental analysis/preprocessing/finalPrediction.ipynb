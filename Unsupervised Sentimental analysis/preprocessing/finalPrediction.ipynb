{
 "cells": [
  {
   "cell_type": "code",
   "execution_count": 1,
   "metadata": {},
   "outputs": [],
   "source": [
    "import pandas as pd\n",
    "from matplotlib import pyplot as plt\n",
    "import pandas as pd# This library is for reading and manipulating the data, can do a lot of things\n",
    "from sklearn import datasets, linear_model\n",
    "from sklearn.model_selection import train_test_split\n",
    "from matplotlib import pyplot as plt\n",
    "from unidecode import unidecode\n"
   ]
  },
  {
   "cell_type": "code",
   "execution_count": 2,
   "metadata": {},
   "outputs": [],
   "source": [
    "uselection=pd.read_csv('final_prediction.csv')\n",
    "uselection['Prediction']=uselection['prediction']\n",
    "uselection = uselection.drop(columns=['prediction']).reset_index(drop=True)\n"
   ]
  },
  {
   "cell_type": "code",
   "execution_count": 3,
   "metadata": {},
   "outputs": [
    {
     "data": {
      "text/html": [
       "<div>\n",
       "<style scoped>\n",
       "    .dataframe tbody tr th:only-of-type {\n",
       "        vertical-align: middle;\n",
       "    }\n",
       "\n",
       "    .dataframe tbody tr th {\n",
       "        vertical-align: top;\n",
       "    }\n",
       "\n",
       "    .dataframe thead th {\n",
       "        text-align: right;\n",
       "    }\n",
       "</style>\n",
       "<table border=\"1\" class=\"dataframe\">\n",
       "  <thead>\n",
       "    <tr style=\"text-align: right;\">\n",
       "      <th></th>\n",
       "      <th>Tweet</th>\n",
       "      <th>Hashtags</th>\n",
       "      <th>Prediction</th>\n",
       "    </tr>\n",
       "  </thead>\n",
       "  <tbody>\n",
       "    <tr>\n",
       "      <td>0</td>\n",
       "      <td>@traceybra @TheLondonHughes #AllLivesMatter</td>\n",
       "      <td>alllivesmatter</td>\n",
       "      <td>-1</td>\n",
       "    </tr>\n",
       "    <tr>\n",
       "      <td>1</td>\n",
       "      <td>RT @beardedfinance: You look like an EasyJet f...</td>\n",
       "      <td>NaN</td>\n",
       "      <td>1</td>\n",
       "    </tr>\n",
       "    <tr>\n",
       "      <td>2</td>\n",
       "      <td>RT @EWindt: Lieve @NUnl  #AllLivesMatter #AllL...</td>\n",
       "      <td>alllivesmatter,alllivesmatter,alllivesmatter,a...</td>\n",
       "      <td>-1</td>\n",
       "    </tr>\n",
       "    <tr>\n",
       "      <td>3</td>\n",
       "      <td>@realDonaldTrump Congrats to the graduates. Bu...</td>\n",
       "      <td>NaN</td>\n",
       "      <td>-1</td>\n",
       "    </tr>\n",
       "    <tr>\n",
       "      <td>4</td>\n",
       "      <td>RT @deplorablelori: @SecretsBedard @realDonald...</td>\n",
       "      <td>NaN</td>\n",
       "      <td>-1</td>\n",
       "    </tr>\n",
       "  </tbody>\n",
       "</table>\n",
       "</div>"
      ],
      "text/plain": [
       "                                               Tweet  \\\n",
       "0        @traceybra @TheLondonHughes #AllLivesMatter   \n",
       "1  RT @beardedfinance: You look like an EasyJet f...   \n",
       "2  RT @EWindt: Lieve @NUnl  #AllLivesMatter #AllL...   \n",
       "3  @realDonaldTrump Congrats to the graduates. Bu...   \n",
       "4  RT @deplorablelori: @SecretsBedard @realDonald...   \n",
       "\n",
       "                                            Hashtags  Prediction  \n",
       "0                                     alllivesmatter          -1  \n",
       "1                                                NaN           1  \n",
       "2  alllivesmatter,alllivesmatter,alllivesmatter,a...          -1  \n",
       "3                                                NaN          -1  \n",
       "4                                                NaN          -1  "
      ]
     },
     "execution_count": 3,
     "metadata": {},
     "output_type": "execute_result"
    }
   ],
   "source": [
    "uselection.head()"
   ]
  },
  {
   "cell_type": "code",
   "execution_count": 4,
   "metadata": {},
   "outputs": [
    {
     "name": "stdout",
     "output_type": "stream",
     "text": [
      "-1    27010\n",
      " 1     8251\n",
      "Name: Prediction, dtype: int64\n"
     ]
    }
   ],
   "source": [
    "counts = uselection.Prediction.value_counts()\n",
    "print(counts)"
   ]
  },
  {
   "cell_type": "code",
   "execution_count": 5,
   "metadata": {},
   "outputs": [],
   "source": [
    "def sentiment_count(file):  \n",
    "    poscount=0\n",
    "    negcount=0\n",
    "    for row in file.Prediction:\n",
    "        if row == 1:\n",
    "            poscount=poscount+1\n",
    "        else:\n",
    "            negcount=negcount+1\n",
    "    return(poscount)"
   ]
  },
  {
   "cell_type": "code",
   "execution_count": 6,
   "metadata": {},
   "outputs": [
    {
     "name": "stdout",
     "output_type": "stream",
     "text": [
      "8251\n"
     ]
    }
   ],
   "source": [
    "totalpos=sentiment_count(uselection)\n",
    "print(totalpos)"
   ]
  },
  {
   "cell_type": "code",
   "execution_count": 7,
   "metadata": {},
   "outputs": [],
   "source": [
    "trumpfile=pd.read_csv('trumpTweets.csv')"
   ]
  },
  {
   "cell_type": "code",
   "execution_count": 8,
   "metadata": {},
   "outputs": [
    {
     "data": {
      "text/html": [
       "<div>\n",
       "<style scoped>\n",
       "    .dataframe tbody tr th:only-of-type {\n",
       "        vertical-align: middle;\n",
       "    }\n",
       "\n",
       "    .dataframe tbody tr th {\n",
       "        vertical-align: top;\n",
       "    }\n",
       "\n",
       "    .dataframe thead th {\n",
       "        text-align: right;\n",
       "    }\n",
       "</style>\n",
       "<table border=\"1\" class=\"dataframe\">\n",
       "  <thead>\n",
       "    <tr style=\"text-align: right;\">\n",
       "      <th></th>\n",
       "      <th>Tweets</th>\n",
       "      <th>Prediction</th>\n",
       "    </tr>\n",
       "  </thead>\n",
       "  <tbody>\n",
       "    <tr>\n",
       "      <td>0</td>\n",
       "      <td>@traceybra @TheLondonHughes #AllLivesMatter</td>\n",
       "      <td>-1</td>\n",
       "    </tr>\n",
       "    <tr>\n",
       "      <td>1</td>\n",
       "      <td>RT @EWindt: Lieve @NUnl  #AllLivesMatter #AllL...</td>\n",
       "      <td>-1</td>\n",
       "    </tr>\n",
       "    <tr>\n",
       "      <td>2</td>\n",
       "      <td>RT @EWindt: Lieve @NUnl  #AllLivesMatter #AllL...</td>\n",
       "      <td>-1</td>\n",
       "    </tr>\n",
       "    <tr>\n",
       "      <td>3</td>\n",
       "      <td>RT @EWindt: Lieve @NUnl  #AllLivesMatter #AllL...</td>\n",
       "      <td>-1</td>\n",
       "    </tr>\n",
       "    <tr>\n",
       "      <td>4</td>\n",
       "      <td>RT @EWindt: Lieve @NUnl  #AllLivesMatter #AllL...</td>\n",
       "      <td>-1</td>\n",
       "    </tr>\n",
       "  </tbody>\n",
       "</table>\n",
       "</div>"
      ],
      "text/plain": [
       "                                              Tweets  Prediction\n",
       "0        @traceybra @TheLondonHughes #AllLivesMatter          -1\n",
       "1  RT @EWindt: Lieve @NUnl  #AllLivesMatter #AllL...          -1\n",
       "2  RT @EWindt: Lieve @NUnl  #AllLivesMatter #AllL...          -1\n",
       "3  RT @EWindt: Lieve @NUnl  #AllLivesMatter #AllL...          -1\n",
       "4  RT @EWindt: Lieve @NUnl  #AllLivesMatter #AllL...          -1"
      ]
     },
     "execution_count": 8,
     "metadata": {},
     "output_type": "execute_result"
    }
   ],
   "source": [
    "trumpfile.head()"
   ]
  },
  {
   "cell_type": "code",
   "execution_count": 9,
   "metadata": {},
   "outputs": [
    {
     "name": "stdout",
     "output_type": "stream",
     "text": [
      "6001\n"
     ]
    }
   ],
   "source": [
    "tcount=trumpfile.Prediction.count()\n",
    "print(tcount)"
   ]
  },
  {
   "cell_type": "code",
   "execution_count": 10,
   "metadata": {},
   "outputs": [
    {
     "name": "stdout",
     "output_type": "stream",
     "text": [
      "-1    4242\n",
      " 1    1759\n",
      "Name: Prediction, dtype: int64\n"
     ]
    }
   ],
   "source": [
    "counts = trumpfile.Prediction.value_counts()\n",
    "print(counts)"
   ]
  },
  {
   "cell_type": "code",
   "execution_count": 11,
   "metadata": {},
   "outputs": [
    {
     "name": "stdout",
     "output_type": "stream",
     "text": [
      "1759\n",
      "pos ver total ratio for trumptwt= 0.29311781369771706\n"
     ]
    }
   ],
   "source": [
    "trumppos= sentiment_count(trumpfile)\n",
    "print(trumppos)\n",
    "#positive versus totalcount ratio\n",
    "pvtT=trumppos/tcount\n",
    "print(\"pos ver total ratio for trumptwt=\",pvtT)"
   ]
  },
  {
   "cell_type": "code",
   "execution_count": 12,
   "metadata": {},
   "outputs": [],
   "source": [
    "bidenfile=pd.read_csv('joeTweets.csv',encoding='utf-8')"
   ]
  },
  {
   "cell_type": "code",
   "execution_count": 13,
   "metadata": {},
   "outputs": [
    {
     "data": {
      "text/html": [
       "<div>\n",
       "<style scoped>\n",
       "    .dataframe tbody tr th:only-of-type {\n",
       "        vertical-align: middle;\n",
       "    }\n",
       "\n",
       "    .dataframe tbody tr th {\n",
       "        vertical-align: top;\n",
       "    }\n",
       "\n",
       "    .dataframe thead th {\n",
       "        text-align: right;\n",
       "    }\n",
       "</style>\n",
       "<table border=\"1\" class=\"dataframe\">\n",
       "  <thead>\n",
       "    <tr style=\"text-align: right;\">\n",
       "      <th></th>\n",
       "      <th>Tweets</th>\n",
       "      <th>Prediction</th>\n",
       "    </tr>\n",
       "  </thead>\n",
       "  <tbody>\n",
       "    <tr>\n",
       "      <td>0</td>\n",
       "      <td>RT @DoYouEvenLif: If you're not following  @el...</td>\n",
       "      <td>-1</td>\n",
       "    </tr>\n",
       "    <tr>\n",
       "      <td>1</td>\n",
       "      <td>RT @Laurie_Garrett: I love this. Bringing it a...</td>\n",
       "      <td>-1</td>\n",
       "    </tr>\n",
       "    <tr>\n",
       "      <td>2</td>\n",
       "      <td>RT @Billyrisner2: @Solmemes1 #JoeBidenIsARacis...</td>\n",
       "      <td>-1</td>\n",
       "    </tr>\n",
       "    <tr>\n",
       "      <td>3</td>\n",
       "      <td>Just in case any followers that do not support...</td>\n",
       "      <td>-1</td>\n",
       "    </tr>\n",
       "    <tr>\n",
       "      <td>4</td>\n",
       "      <td>RT @StephMillerShow: Holy shit. Watch this. Th...</td>\n",
       "      <td>-1</td>\n",
       "    </tr>\n",
       "  </tbody>\n",
       "</table>\n",
       "</div>"
      ],
      "text/plain": [
       "                                              Tweets  Prediction\n",
       "0  RT @DoYouEvenLif: If you're not following  @el...          -1\n",
       "1  RT @Laurie_Garrett: I love this. Bringing it a...          -1\n",
       "2  RT @Billyrisner2: @Solmemes1 #JoeBidenIsARacis...          -1\n",
       "3  Just in case any followers that do not support...          -1\n",
       "4  RT @StephMillerShow: Holy shit. Watch this. Th...          -1"
      ]
     },
     "execution_count": 13,
     "metadata": {},
     "output_type": "execute_result"
    }
   ],
   "source": [
    "bidenfile.head()"
   ]
  },
  {
   "cell_type": "code",
   "execution_count": 14,
   "metadata": {},
   "outputs": [
    {
     "name": "stdout",
     "output_type": "stream",
     "text": [
      "11881\n"
     ]
    }
   ],
   "source": [
    "tcountjoe=bidenfile.Prediction.count()\n",
    "print(tcountjoe)"
   ]
  },
  {
   "cell_type": "code",
   "execution_count": 15,
   "metadata": {},
   "outputs": [
    {
     "name": "stdout",
     "output_type": "stream",
     "text": [
      "-1    8271\n",
      " 1    3610\n",
      "Name: Prediction, dtype: int64\n"
     ]
    }
   ],
   "source": [
    "counts= bidenfile.Prediction.value_counts()\n",
    "print(counts)\n"
   ]
  },
  {
   "cell_type": "code",
   "execution_count": 16,
   "metadata": {},
   "outputs": [
    {
     "name": "stdout",
     "output_type": "stream",
     "text": [
      "3610\n",
      "0.30384647756922817\n"
     ]
    }
   ],
   "source": [
    "joepos=sentiment_count(bidenfile)\n",
    "print(joepos)\n",
    "pvtJ=joepos/tcountjoe\n",
    "print(pvtJ)"
   ]
  },
  {
   "cell_type": "code",
   "execution_count": 18,
   "metadata": {},
   "outputs": [
    {
     "name": "stdout",
     "output_type": "stream",
     "text": [
      "THE PREDICTED WINNER IS JOE BIDEN\n"
     ]
    }
   ],
   "source": [
    "if pvtT>pvtJ:\n",
    "    print(\"THE PREDICTED WINNER IS DONALD TRUMP\")\n",
    "else:\n",
    "    print(\"THE PREDICTED WINNER IS JOE BIDEN\")"
   ]
  },
  {
   "cell_type": "code",
   "execution_count": null,
   "metadata": {},
   "outputs": [],
   "source": []
  },
  {
   "cell_type": "code",
   "execution_count": null,
   "metadata": {},
   "outputs": [],
   "source": []
  }
 ],
 "metadata": {
  "kernelspec": {
   "display_name": "Python 3",
   "language": "python",
   "name": "python3"
  },
  "language_info": {
   "codemirror_mode": {
    "name": "ipython",
    "version": 3
   },
   "file_extension": ".py",
   "mimetype": "text/x-python",
   "name": "python",
   "nbconvert_exporter": "python",
   "pygments_lexer": "ipython3",
   "version": "3.7.4"
  }
 },
 "nbformat": 4,
 "nbformat_minor": 2
}
